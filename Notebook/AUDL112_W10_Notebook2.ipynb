{
  "cells": [
    {
      "cell_type": "markdown",
      "source": [
        "<img src=\"https://i.ibb.co/qjt4Ymb/2022-09-19-004719.png\" alt=\"2022-09-19-004719\" border=\"0\">\n",
        "\n",
        "# 亞洲大學112深度學習教材(AUDL112-W10-Notebook2)\n",
        "[![Open In Colab](https://colab.research.google.com/assets/colab-badge.svg)](https://colab.research.google.com/github/googlecolab/colabtools/blob/master/notebooks/colab-github-demo.ipynb)\n",
        "\n",
        "# PyTorch RNN"
      ],
      "metadata": {
        "id": "PzAW6U6YIy5L"
      }
    },
    {
      "cell_type": "code",
      "execution_count": null,
      "metadata": {
        "id": "BuPs7pwOIyMO"
      },
      "outputs": [],
      "source": [
        "%reload_ext autoreload\n",
        "%autoreload 2\n",
        "%matplotlib inline"
      ]
    },
    {
      "cell_type": "code",
      "execution_count": null,
      "metadata": {
        "id": "3qPckkV6IyMP"
      },
      "outputs": [],
      "source": [
        "import torch\n",
        "import torch.nn as nn\n",
        "import torch.nn.functional as F\n",
        "from torch.utils.data import Dataset, DataLoader\n",
        "import matplotlib.pyplot as plt\n",
        "from torch.autograd import Variable\n",
        "from sklearn.preprocessing import normalize\n",
        "from sklearn.metrics import mean_squared_error"
      ]
    },
    {
      "cell_type": "code",
      "execution_count": null,
      "metadata": {
        "id": "8lr1UmsUIyMQ"
      },
      "outputs": [],
      "source": [
        "import pandas as pd"
      ]
    },
    {
      "cell_type": "code",
      "execution_count": null,
      "metadata": {
        "id": "LAeZYhnnIyMQ"
      },
      "outputs": [],
      "source": [
        "import numpy as np\n",
        "from pathlib import Path"
      ]
    },
    {
      "cell_type": "code",
      "execution_count": null,
      "metadata": {
        "id": "j2ptINy5IyMQ"
      },
      "outputs": [],
      "source": [
        "!ls  \\Stock"
      ]
    },
    {
      "cell_type": "markdown",
      "source": [
        "## Data source\n",
        "https://drive.google.com/file/d/1nQHtdlXFMGaUqdzW9u2jjQI7vSZOaaN2/view?usp=sharing"
      ],
      "metadata": {
        "id": "g6hi7hr8XoeG"
      }
    },
    {
      "cell_type": "code",
      "execution_count": null,
      "metadata": {
        "id": "qCihRP6EIyMQ"
      },
      "outputs": [],
      "source": [
        "# from chu20230205@gmail.com\n",
        "%%bash\n",
        "gdown https://drive.google.com/uc?id=1nQHtdlXFMGaUqdzW9u2jjQI7vSZOaaN2\n",
        "unzip individual_stocks_5yr.zip\n",
        "rm individual_stocks_5yr.zip"
      ]
    },
    {
      "cell_type": "code",
      "execution_count": null,
      "metadata": {
        "id": "mABYwMCnIyMQ"
      },
      "outputs": [],
      "source": [
        "path = Path('individual_stocks_5yr')\n",
        "df = pd.read_csv(path/'AAPL_data.csv')"
      ]
    },
    {
      "cell_type": "code",
      "execution_count": null,
      "metadata": {
        "scrolled": true,
        "id": "Z0YXv9kMIyMR"
      },
      "outputs": [],
      "source": [
        "df.head()"
      ]
    },
    {
      "cell_type": "code",
      "execution_count": null,
      "metadata": {
        "id": "JA-pNS_fIyMR"
      },
      "outputs": [],
      "source": [
        "df=df['close']"
      ]
    },
    {
      "cell_type": "code",
      "execution_count": null,
      "metadata": {
        "id": "ZkkNEZ4NIyMR"
      },
      "outputs": [],
      "source": [
        "df =(df.values).reshape(-1,1)\n",
        "df = (normalize(df, axis=0)).squeeze()"
      ]
    },
    {
      "cell_type": "code",
      "execution_count": null,
      "metadata": {
        "id": "E57ZgkqJIyMR"
      },
      "outputs": [],
      "source": [
        "df1 = pd.read_csv(path/'GOOGL_data.csv')"
      ]
    },
    {
      "cell_type": "code",
      "execution_count": null,
      "metadata": {
        "id": "ubMNiLcQIyMR"
      },
      "outputs": [],
      "source": [
        "df1=df1['close']"
      ]
    },
    {
      "cell_type": "code",
      "execution_count": null,
      "metadata": {
        "id": "w8ks4SalIyMR"
      },
      "outputs": [],
      "source": [
        "df1 =(df1.values).reshape(-1,1)"
      ]
    },
    {
      "cell_type": "code",
      "execution_count": null,
      "metadata": {
        "id": "T1FksCzQIyMR"
      },
      "outputs": [],
      "source": [
        "df1 = (normalize(df1, axis=0)).squeeze()"
      ]
    },
    {
      "cell_type": "code",
      "execution_count": null,
      "metadata": {
        "id": "2cNfOagIIyMR"
      },
      "outputs": [],
      "source": [
        "df1.shape"
      ]
    },
    {
      "cell_type": "code",
      "execution_count": null,
      "metadata": {
        "id": "lQGORsXKIyMS"
      },
      "outputs": [],
      "source": [
        "df2 = pd.read_csv(path/'MSFT_data.csv')"
      ]
    },
    {
      "cell_type": "code",
      "execution_count": null,
      "metadata": {
        "id": "AD8clTIWIyMS"
      },
      "outputs": [],
      "source": [
        "df2=df2['close']"
      ]
    },
    {
      "cell_type": "code",
      "execution_count": null,
      "metadata": {
        "id": "YJ287vToIyMS"
      },
      "outputs": [],
      "source": [
        "df2 =(df2.values).reshape(-1,1)\n",
        "df2 = (normalize(df2, axis=0)).squeeze()"
      ]
    },
    {
      "cell_type": "code",
      "execution_count": null,
      "metadata": {
        "id": "175JkCjGIyMS"
      },
      "outputs": [],
      "source": [
        "df3 = pd.read_csv(path/'AMZN_data.csv')"
      ]
    },
    {
      "cell_type": "code",
      "execution_count": null,
      "metadata": {
        "id": "XNP2QqFPIyMS"
      },
      "outputs": [],
      "source": [
        "df3=df3['close']"
      ]
    },
    {
      "cell_type": "code",
      "execution_count": null,
      "metadata": {
        "id": "e5Bl8mQRIyMS"
      },
      "outputs": [],
      "source": [
        "df3 =(df3.values).reshape(-1,1)\n",
        "df3 = (normalize(df3, axis=0)).squeeze()"
      ]
    },
    {
      "cell_type": "code",
      "execution_count": null,
      "metadata": {
        "id": "ri8ljwMnIyMS"
      },
      "outputs": [],
      "source": [
        "df4 = pd.read_csv(path/'FB_data.csv')"
      ]
    },
    {
      "cell_type": "code",
      "execution_count": null,
      "metadata": {
        "id": "zRsJWHFDIyMS"
      },
      "outputs": [],
      "source": [
        "df4=df4['close']"
      ]
    },
    {
      "cell_type": "code",
      "execution_count": null,
      "metadata": {
        "id": "xe8TfmRMIyMS"
      },
      "outputs": [],
      "source": [
        "df4 =(df4.values).reshape(-1,1)\n",
        "df4 = (normalize(df4, axis=0)).squeeze()"
      ]
    },
    {
      "cell_type": "code",
      "execution_count": null,
      "metadata": {
        "scrolled": true,
        "id": "y__CovsyIyMS"
      },
      "outputs": [],
      "source": [
        "df4[0]"
      ]
    },
    {
      "cell_type": "code",
      "execution_count": null,
      "metadata": {
        "id": "dLvWzo2JIyMS"
      },
      "outputs": [],
      "source": [
        "wind=20 # Time Window\n",
        "TimeS = np.empty([len(df)-wind-1, wind+1])\n",
        "TimeS.shape\n",
        "TimeS=np.float32(TimeS)\n",
        "TimeS1=np.float32(np.empty([len(df)-wind-1, wind+1]))\n",
        "TimeS2=np.float32(np.empty([len(df)-wind-1, wind+1]))\n",
        "TimeS3=np.float32(np.empty([len(df)-wind-1, wind+1]))\n",
        "TimeS4=np.float32(np.empty([len(df)-wind-1, wind+1]))\n",
        "type(TimeS[0][0])"
      ]
    },
    {
      "cell_type": "code",
      "execution_count": null,
      "metadata": {
        "scrolled": false,
        "id": "q6kLUFG3IyMS"
      },
      "outputs": [],
      "source": [
        "for i in range(len(df)-wind-1):\n",
        "    TimeS[i,:]=df[i:i+wind+1]"
      ]
    },
    {
      "cell_type": "code",
      "execution_count": null,
      "metadata": {
        "id": "THLsl6REIyMT"
      },
      "outputs": [],
      "source": [
        "TimeS"
      ]
    },
    {
      "cell_type": "code",
      "execution_count": null,
      "metadata": {
        "id": "WZDjMrGIIyMT"
      },
      "outputs": [],
      "source": [
        "TargetNump=TimeS[:,20]"
      ]
    },
    {
      "cell_type": "code",
      "execution_count": null,
      "metadata": {
        "id": "C5u4tG0AIyMT"
      },
      "outputs": [],
      "source": [
        "TargetNump.shape"
      ]
    },
    {
      "cell_type": "code",
      "execution_count": null,
      "metadata": {
        "id": "GxOaufRrIyMT"
      },
      "outputs": [],
      "source": [
        "Y_Train=TargetNump[0:960]"
      ]
    },
    {
      "cell_type": "code",
      "execution_count": null,
      "metadata": {
        "id": "q17aDzT6IyMT"
      },
      "outputs": [],
      "source": [
        "Y_Test= TargetNump[960:]"
      ]
    },
    {
      "cell_type": "code",
      "execution_count": null,
      "metadata": {
        "id": "0tuTUcRSIyMT"
      },
      "outputs": [],
      "source": [
        "Y_Test= Y_Test[0:256]"
      ]
    },
    {
      "cell_type": "code",
      "execution_count": null,
      "metadata": {
        "id": "GBMB-GWpIyMT"
      },
      "outputs": [],
      "source": [
        "DataNump=TimeS[:,0:20]"
      ]
    },
    {
      "cell_type": "code",
      "execution_count": null,
      "metadata": {
        "id": "tEuh2ULdIyMT"
      },
      "outputs": [],
      "source": [
        "for i in range(len(df)-wind-1):\n",
        "    TimeS1[i,:]=df1[i:i+wind+1]"
      ]
    },
    {
      "cell_type": "code",
      "execution_count": null,
      "metadata": {
        "id": "VTkzU9GSIyMT"
      },
      "outputs": [],
      "source": [
        "TimeS1=TimeS1[:,0:20]"
      ]
    },
    {
      "cell_type": "code",
      "execution_count": null,
      "metadata": {
        "id": "0ggCnCK4IyMT"
      },
      "outputs": [],
      "source": [
        "TimeS1.shape"
      ]
    },
    {
      "cell_type": "code",
      "execution_count": null,
      "metadata": {
        "id": "A5wBsFLqIyMT"
      },
      "outputs": [],
      "source": [
        "for i in range(len(df)-wind-1):\n",
        "    TimeS2[i,:]=df2[i:i+wind+1]"
      ]
    },
    {
      "cell_type": "code",
      "execution_count": null,
      "metadata": {
        "id": "501SfBgwIyMU"
      },
      "outputs": [],
      "source": [
        "TimeS2=TimeS2[:,0:20]"
      ]
    },
    {
      "cell_type": "code",
      "execution_count": null,
      "metadata": {
        "id": "-ZssMdZ_IyMb"
      },
      "outputs": [],
      "source": [
        "for i in range(len(df)-wind-1):\n",
        "    TimeS3[i,:]=df3[i:i+wind+1]"
      ]
    },
    {
      "cell_type": "code",
      "execution_count": null,
      "metadata": {
        "id": "tYhe2hOJIyMb"
      },
      "outputs": [],
      "source": [
        "TimeS3=TimeS3[:,0:20]"
      ]
    },
    {
      "cell_type": "code",
      "execution_count": null,
      "metadata": {
        "id": "J0Jt13qAIyMb"
      },
      "outputs": [],
      "source": [
        "for i in range(len(df)-wind-1):\n",
        "    TimeS4[i,:]=df4[i:i+wind+1]\n"
      ]
    },
    {
      "cell_type": "code",
      "execution_count": null,
      "metadata": {
        "id": "D3cdBBe6IyMb"
      },
      "outputs": [],
      "source": [
        "TimeS4=TimeS4[:,0:20]"
      ]
    },
    {
      "cell_type": "code",
      "execution_count": null,
      "metadata": {
        "scrolled": true,
        "id": "8uhiPPp7IyMb"
      },
      "outputs": [],
      "source": [
        "X_complete=np.stack((DataNump, TimeS1, TimeS2, TimeS3, TimeS4), axis=0)\n",
        "X_complete.shape\n",
        "TimeS4[0,:]"
      ]
    },
    {
      "cell_type": "code",
      "execution_count": null,
      "metadata": {
        "id": "n87clysLIyMb"
      },
      "outputs": [],
      "source": [
        "X_complete=X_complete.transpose(2,1,0)"
      ]
    },
    {
      "cell_type": "code",
      "execution_count": null,
      "metadata": {
        "id": "lS2cdk00IyMb"
      },
      "outputs": [],
      "source": [
        "X_Train=X_complete[:,0:960,:]"
      ]
    },
    {
      "cell_type": "code",
      "execution_count": null,
      "metadata": {
        "id": "TPwUqhjmIyMb"
      },
      "outputs": [],
      "source": [
        "X_Test=X_complete[:,960:,:]"
      ]
    },
    {
      "cell_type": "code",
      "execution_count": null,
      "metadata": {
        "id": "sEk-ObBxIyMc"
      },
      "outputs": [],
      "source": [
        "np.shape(X_Test)"
      ]
    },
    {
      "cell_type": "code",
      "execution_count": null,
      "metadata": {
        "id": "7D2Ha4kfIyMc"
      },
      "outputs": [],
      "source": [
        "X_Test=X_Test[:,0:256,:]"
      ]
    },
    {
      "cell_type": "code",
      "execution_count": null,
      "metadata": {
        "scrolled": true,
        "id": "xAF_ML6lIyMc"
      },
      "outputs": [],
      "source": [
        "np.shape(X_Test)"
      ]
    },
    {
      "cell_type": "code",
      "execution_count": null,
      "metadata": {
        "id": "nX81Sr8zIyMc"
      },
      "outputs": [],
      "source": [
        "bs=64\n",
        "numlay=2\n",
        "hiddenSz=20"
      ]
    },
    {
      "cell_type": "code",
      "execution_count": null,
      "metadata": {
        "id": "fb4BrqVwIyMc"
      },
      "outputs": [],
      "source": [
        "class Model1(nn.Module):\n",
        "\n",
        "    def __init__(self):\n",
        "        super(Model1, self).__init__()\n",
        "        #self.rnn = nn.RNN(input_size=1,hidden_size=20, num_layers=1, batch_first = True)\n",
        "        self.lstm = nn.LSTM(input_size=5,hidden_size=hiddenSz, num_layers=numlay, batch_first = True)\n",
        "        self.out = nn.Linear(20,1)\n",
        "        self.bn = nn.BatchNorm1d(20)\n",
        "#     def forward(self,x, h_state):\n",
        "#         r_out, h_state = self.rnn(x, h_state)\n",
        "    def forward(self,x, h_state, c_state):\n",
        "        r_out, (h_state,c_state) = self.lstm(x, (h_state,c_state))\n",
        "        r_out = self.bn(r_out)\n",
        "\n",
        "        outs=[]\n",
        "        for time_step in range(r_out.size(1)):\n",
        "            outs.append(self.out(r_out[:,time_step,:]))\n",
        "\n",
        "\n",
        "        return torch.stack(outs,dim=1), (h_state, c_state)"
      ]
    },
    {
      "cell_type": "code",
      "execution_count": null,
      "metadata": {
        "id": "whLxea0dIyMc"
      },
      "outputs": [],
      "source": [
        "net=Model1()"
      ]
    },
    {
      "cell_type": "code",
      "execution_count": null,
      "metadata": {
        "id": "sJw1Z7NGIyMc"
      },
      "outputs": [],
      "source": [
        "net.cuda()"
      ]
    },
    {
      "cell_type": "code",
      "execution_count": null,
      "metadata": {
        "id": "gyesOWUbIyMc"
      },
      "outputs": [],
      "source": [
        "h_state = torch.zeros(numlay,bs,hiddenSz).cuda()\n",
        "c_state = torch.zeros(numlay,bs,hiddenSz).cuda()"
      ]
    },
    {
      "cell_type": "code",
      "execution_count": null,
      "metadata": {
        "id": "cs_unr9xIyMc"
      },
      "outputs": [],
      "source": [
        "class StockDataset(Dataset):\n",
        "\n",
        "    def __init__(self, X_dataset, Y_dataset):\n",
        "\n",
        "        self.X_dataset = torch.from_numpy(X_dataset)\n",
        "        self.Y_dataset = torch.from_numpy(Y_dataset)\n",
        "\n",
        "    def __len__(self):\n",
        "        return np.shape(self.Y_dataset)[0]\n",
        "\n",
        "    def __getitem__(self, idx):\n",
        "\n",
        "        sample = {'Sequence': self.X_dataset[:,idx,:], \"Target\": self.Y_dataset[idx]}\n",
        "\n",
        "\n",
        "        return sample"
      ]
    },
    {
      "cell_type": "code",
      "execution_count": null,
      "metadata": {
        "id": "VpSJyOE7IyMc"
      },
      "outputs": [],
      "source": [
        "Train_ds=StockDataset(X_Train, Y_Train)"
      ]
    },
    {
      "cell_type": "code",
      "execution_count": null,
      "metadata": {
        "id": "LHoGb3OvIyMd"
      },
      "outputs": [],
      "source": [
        "Train_ds[0]"
      ]
    },
    {
      "cell_type": "code",
      "execution_count": null,
      "metadata": {
        "id": "ayJC82iCIyMd"
      },
      "outputs": [],
      "source": [
        "len(Train_ds)"
      ]
    },
    {
      "cell_type": "code",
      "execution_count": null,
      "metadata": {
        "id": "mqFHHn9aIyMd"
      },
      "outputs": [],
      "source": [
        "for i in range(len(Train_ds)):\n",
        "    sample = Train_ds[i]\n",
        "\n",
        "    print(i, sample['Sequence'].size(), sample['Target'])\n",
        "\n",
        "    if i == 3:\n",
        "        break\n"
      ]
    },
    {
      "cell_type": "code",
      "execution_count": null,
      "metadata": {
        "id": "r7U6OLOeIyMd"
      },
      "outputs": [],
      "source": [
        "Train_dl = DataLoader(Train_ds, batch_size=bs, shuffle=False, num_workers=4)"
      ]
    },
    {
      "cell_type": "code",
      "execution_count": null,
      "metadata": {
        "scrolled": false,
        "id": "5I00UH5zIyMd"
      },
      "outputs": [],
      "source": [
        "Train_dl.dataset[2]"
      ]
    },
    {
      "cell_type": "code",
      "execution_count": null,
      "metadata": {
        "id": "dsTdFUQXIyMd"
      },
      "outputs": [],
      "source": [
        "import torch.optim as optim"
      ]
    },
    {
      "cell_type": "code",
      "execution_count": null,
      "metadata": {
        "id": "3FRYrl_pIyMd"
      },
      "outputs": [],
      "source": [
        "criterion = nn.MSELoss()\n",
        "optimizer = optim.Adam(net.parameters(), lr=0.00005)\n"
      ]
    },
    {
      "cell_type": "code",
      "execution_count": null,
      "metadata": {
        "scrolled": true,
        "id": "-kbZZzgjIyMd"
      },
      "outputs": [],
      "source": [
        "for epoc in range (100):\n",
        "        running_loss = 0.0\n",
        "        predictionplot=np.empty([960])\n",
        "\n",
        "        for i, data in enumerate(Train_dl):\n",
        "        # get the inputs\n",
        "            inputs, labels = data['Sequence'], data['Target']\n",
        "\n",
        "            x = Variable(inputs).cuda()\n",
        "            y = Variable(labels).cuda()\n",
        "\n",
        "        # zero the parameter gradients\n",
        "            optimizer.zero_grad()\n",
        "\n",
        "        # forward + backward + optimize\n",
        "            prediction, (h_state, c_state) = net(x, h_state,c_state)\n",
        "            prediction=prediction[:,19,:].squeeze()\n",
        "            h_state = Variable(h_state.data)\n",
        "            c_state = Variable(c_state.data)\n",
        "            loss = criterion(prediction, y)\n",
        "            loss.backward()\n",
        "            optimizer.step()\n",
        "\n",
        "        # print statistics\n",
        "            running_loss += loss.item()\n",
        "            if i % 2 == 1:    # print every 2 mini-batches\n",
        "                print('[%d, %1d] loss: %.7f' %(epoc + 1, i + 1, running_loss / 2))\n",
        "                running_loss = 0.0\n",
        "\n",
        "            predictionplot[i*64:i*64+64] = prediction.cpu().detach().numpy()\n",
        "\n",
        "print('Finished Training')"
      ]
    },
    {
      "cell_type": "code",
      "execution_count": null,
      "metadata": {
        "id": "5OIuFc5_IyMd"
      },
      "outputs": [],
      "source": [
        " # plotting\n",
        "plt.plot(np.arange(0.0, 960, 1.0), Y_Train, 'r-')\n",
        "#plt.draw(); plt.pause(0.05)\n",
        "#plt.plot(np.arange(0.0, 64.0, 1.0), prediction.data.numpy().flatten(), 'b-')\n",
        "plt.plot(np.arange(0.0, 960, 1.0), np.asarray(predictionplot), 'b-')\n",
        "plt.draw(); plt.pause(0.05)"
      ]
    },
    {
      "cell_type": "code",
      "execution_count": null,
      "metadata": {
        "id": "Gi_WpErhIyMd"
      },
      "outputs": [],
      "source": [
        "Test_ds=StockDataset(X_Test, Y_Test)"
      ]
    },
    {
      "cell_type": "code",
      "execution_count": null,
      "metadata": {
        "id": "lvdRhWrBIyMe"
      },
      "outputs": [],
      "source": [
        "Test_ds[77]"
      ]
    },
    {
      "cell_type": "code",
      "execution_count": null,
      "metadata": {
        "id": "eXt-G_KlIyMe"
      },
      "outputs": [],
      "source": [
        "Test_dl = DataLoader(Test_ds, batch_size=64, shuffle=False, num_workers=4)"
      ]
    },
    {
      "cell_type": "code",
      "execution_count": null,
      "metadata": {
        "id": "ap-cgMxoIyMe"
      },
      "outputs": [],
      "source": [
        "with torch.no_grad():\n",
        "    predictionplot=[]\n",
        "\n",
        "    for data in Test_dl:\n",
        "\n",
        "        inputs, labels = data['Sequence'].cuda(), data['Target'].cuda()\n",
        "\n",
        "        # forward + backward + optimize\n",
        "\n",
        "        prediction, (h_state,c_state) = net(inputs, h_state,c_state)\n",
        "        prediction=prediction[:,19,:].squeeze()\n",
        "\n",
        "        loss = criterion(prediction, labels)\n",
        "        running_loss += loss.item()\n",
        "\n",
        "        print('loss: %.7f' %(running_loss))\n",
        "        running_loss = 0.0\n",
        "        predictionplot[i*(len(prediction.cpu().numpy())):i*(len(prediction.cpu().numpy()))+len(prediction.cpu().numpy())] = prediction.cpu().detach().numpy()\n",
        "\n",
        "\n",
        "\n",
        ""
      ]
    },
    {
      "cell_type": "code",
      "execution_count": null,
      "metadata": {
        "id": "YTWzmAqmIyMe"
      },
      "outputs": [],
      "source": [
        "plt.plot(np.arange(0.0, 256, 1.0), Y_Test, 'r-')\n",
        "plt.plot(np.arange(0.0, 256, 1.0), np.asarray(predictionplot), 'b-')\n",
        "plt.draw();"
      ]
    },
    {
      "cell_type": "code",
      "execution_count": null,
      "metadata": {
        "id": "e63jmtEoIyMe"
      },
      "outputs": [],
      "source": []
    }
  ],
  "metadata": {
    "kernelspec": {
      "display_name": "Python 3",
      "language": "python",
      "name": "python3"
    },
    "language_info": {
      "codemirror_mode": {
        "name": "ipython",
        "version": 3
      },
      "file_extension": ".py",
      "mimetype": "text/x-python",
      "name": "python",
      "nbconvert_exporter": "python",
      "pygments_lexer": "ipython3",
      "version": "3.6.8"
    },
    "colab": {
      "provenance": []
    }
  },
  "nbformat": 4,
  "nbformat_minor": 0
}