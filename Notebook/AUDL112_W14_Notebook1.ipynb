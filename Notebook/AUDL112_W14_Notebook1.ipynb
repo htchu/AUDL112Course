{
  "cells": [
    {
      "cell_type": "markdown",
      "id": "691a81c8",
      "metadata": {
        "papermill": {
          "duration": 0.006109,
          "end_time": "2023-03-15T10:21:10.187908",
          "exception": false,
          "start_time": "2023-03-15T10:21:10.181799",
          "status": "completed"
        },
        "tags": [],
        "id": "691a81c8"
      },
      "source": [
        "# PyTorch Basic GAN Tutorial\n",
        "\n",
        "How to train a GAN!\n",
        "\n",
        "Main takeaways:\n",
        "1. Generator and discriminator are arbitrary PyTorch modules.\n",
        "2. training_step does both the generator and discriminator training.\n"
      ]
    },
    {
      "cell_type": "markdown",
      "id": "51fd1dd7",
      "metadata": {
        "papermill": {
          "duration": 0.002103,
          "end_time": "2023-03-15T10:21:10.194845",
          "exception": false,
          "start_time": "2023-03-15T10:21:10.192742",
          "status": "completed"
        },
        "tags": [],
        "id": "51fd1dd7"
      },
      "source": [
        "## Setup\n",
        "This notebook requires some packages besides pytorch-lightning."
      ]
    },
    {
      "cell_type": "code",
      "execution_count": null,
      "id": "37bb4b39",
      "metadata": {
        "execution": {
          "iopub.execute_input": "2023-03-15T10:21:10.200905Z",
          "iopub.status.busy": "2023-03-15T10:21:10.200423Z",
          "iopub.status.idle": "2023-03-15T10:21:13.393154Z",
          "shell.execute_reply": "2023-03-15T10:21:13.391779Z"
        },
        "id": "37bb4b39",
        "lines_to_next_cell": 0,
        "papermill": {
          "duration": 3.19971,
          "end_time": "2023-03-15T10:21:13.396677",
          "exception": false,
          "start_time": "2023-03-15T10:21:10.196967",
          "status": "completed"
        },
        "tags": []
      },
      "outputs": [],
      "source": [
        "! pip install --quiet pytorch-lightning\n",
        "! pip install --quiet lightning"
      ]
    },
    {
      "cell_type": "code",
      "execution_count": null,
      "id": "07a98e3c",
      "metadata": {
        "execution": {
          "iopub.execute_input": "2023-03-15T10:21:13.409370Z",
          "iopub.status.busy": "2023-03-15T10:21:13.408991Z",
          "iopub.status.idle": "2023-03-15T10:21:15.416518Z",
          "shell.execute_reply": "2023-03-15T10:21:15.415939Z"
        },
        "papermill": {
          "duration": 2.016474,
          "end_time": "2023-03-15T10:21:15.418933",
          "exception": false,
          "start_time": "2023-03-15T10:21:13.402459",
          "status": "completed"
        },
        "tags": [],
        "id": "07a98e3c"
      },
      "outputs": [],
      "source": [
        "import os\n",
        "\n",
        "import lightning as L\n",
        "import numpy as np\n",
        "import torch\n",
        "import torch.nn as nn\n",
        "import torch.nn.functional as F\n",
        "import torchvision\n",
        "import torchvision.transforms as transforms\n",
        "from torch.utils.data import DataLoader, random_split\n",
        "from torchvision.datasets import MNIST\n",
        "\n",
        "PATH_DATASETS = os.environ.get(\"PATH_DATASETS\", \".\")\n",
        "BATCH_SIZE = 256 if torch.cuda.is_available() else 64\n",
        "NUM_WORKERS = int(os.cpu_count() / 2)"
      ]
    },
    {
      "cell_type": "markdown",
      "id": "c84b2c53",
      "metadata": {
        "lines_to_next_cell": 2,
        "papermill": {
          "duration": 0.005026,
          "end_time": "2023-03-15T10:21:15.429393",
          "exception": false,
          "start_time": "2023-03-15T10:21:15.424367",
          "status": "completed"
        },
        "tags": [],
        "id": "c84b2c53"
      },
      "source": [
        "### MNIST DataModule\n",
        "\n",
        "Below, we define a DataModule for the MNIST Dataset. To learn more about DataModules, check out our tutorial\n",
        "on them or see the [latest release docs](https://lightning.ai/docs/pytorch/stable/data/datamodule.html)."
      ]
    },
    {
      "cell_type": "code",
      "execution_count": null,
      "id": "b3e383d7",
      "metadata": {
        "execution": {
          "iopub.execute_input": "2023-03-15T10:21:15.437694Z",
          "iopub.status.busy": "2023-03-15T10:21:15.436883Z",
          "iopub.status.idle": "2023-03-15T10:21:15.448354Z",
          "shell.execute_reply": "2023-03-15T10:21:15.447871Z"
        },
        "lines_to_next_cell": 2,
        "papermill": {
          "duration": 0.016541,
          "end_time": "2023-03-15T10:21:15.449906",
          "exception": false,
          "start_time": "2023-03-15T10:21:15.433365",
          "status": "completed"
        },
        "tags": [],
        "id": "b3e383d7"
      },
      "outputs": [],
      "source": [
        "class MNISTDataModule(L.LightningDataModule):\n",
        "    def __init__(\n",
        "        self,\n",
        "        data_dir: str = PATH_DATASETS,\n",
        "        batch_size: int = BATCH_SIZE,\n",
        "        num_workers: int = NUM_WORKERS,\n",
        "    ):\n",
        "        super().__init__()\n",
        "        self.data_dir = data_dir\n",
        "        self.batch_size = batch_size\n",
        "        self.num_workers = num_workers\n",
        "\n",
        "        self.transform = transforms.Compose(\n",
        "            [\n",
        "                transforms.ToTensor(),\n",
        "                transforms.Normalize((0.1307,), (0.3081,)),\n",
        "            ]\n",
        "        )\n",
        "\n",
        "        self.dims = (1, 28, 28)\n",
        "        self.num_classes = 10\n",
        "\n",
        "    def prepare_data(self):\n",
        "        # download\n",
        "        MNIST(self.data_dir, train=True, download=True)\n",
        "        MNIST(self.data_dir, train=False, download=True)\n",
        "\n",
        "    def setup(self, stage=None):\n",
        "        # Assign train/val datasets for use in dataloaders\n",
        "        if stage == \"fit\" or stage is None:\n",
        "            mnist_full = MNIST(self.data_dir, train=True, transform=self.transform)\n",
        "            self.mnist_train, self.mnist_val = random_split(mnist_full, [55000, 5000])\n",
        "\n",
        "        # Assign test dataset for use in dataloader(s)\n",
        "        if stage == \"test\" or stage is None:\n",
        "            self.mnist_test = MNIST(self.data_dir, train=False, transform=self.transform)\n",
        "\n",
        "    def train_dataloader(self):\n",
        "        return DataLoader(\n",
        "            self.mnist_train,\n",
        "            batch_size=self.batch_size,\n",
        "            num_workers=self.num_workers,\n",
        "        )\n",
        "\n",
        "    def val_dataloader(self):\n",
        "        return DataLoader(self.mnist_val, batch_size=self.batch_size, num_workers=self.num_workers)\n",
        "\n",
        "    def test_dataloader(self):\n",
        "        return DataLoader(self.mnist_test, batch_size=self.batch_size, num_workers=self.num_workers)"
      ]
    },
    {
      "cell_type": "markdown",
      "id": "0de40a60",
      "metadata": {
        "lines_to_next_cell": 2,
        "papermill": {
          "duration": 0.003232,
          "end_time": "2023-03-15T10:21:15.456420",
          "exception": false,
          "start_time": "2023-03-15T10:21:15.453188",
          "status": "completed"
        },
        "tags": [],
        "id": "0de40a60"
      },
      "source": [
        "### A. Generator"
      ]
    },
    {
      "cell_type": "code",
      "execution_count": null,
      "id": "90089056",
      "metadata": {
        "execution": {
          "iopub.execute_input": "2023-03-15T10:21:15.464135Z",
          "iopub.status.busy": "2023-03-15T10:21:15.463849Z",
          "iopub.status.idle": "2023-03-15T10:21:15.473315Z",
          "shell.execute_reply": "2023-03-15T10:21:15.472928Z"
        },
        "lines_to_next_cell": 2,
        "papermill": {
          "duration": 0.015795,
          "end_time": "2023-03-15T10:21:15.475509",
          "exception": false,
          "start_time": "2023-03-15T10:21:15.459714",
          "status": "completed"
        },
        "tags": [],
        "id": "90089056"
      },
      "outputs": [],
      "source": [
        "class Generator(nn.Module):\n",
        "    def __init__(self, latent_dim, img_shape):\n",
        "        super().__init__()\n",
        "        self.img_shape = img_shape\n",
        "\n",
        "        def block(in_feat, out_feat, normalize=True):\n",
        "            layers = [nn.Linear(in_feat, out_feat)]\n",
        "            if normalize:\n",
        "                layers.append(nn.BatchNorm1d(out_feat, 0.8))\n",
        "            layers.append(nn.LeakyReLU(0.2, inplace=True))\n",
        "            return layers\n",
        "\n",
        "        self.model = nn.Sequential(\n",
        "            *block(latent_dim, 128, normalize=False),\n",
        "            *block(128, 256),\n",
        "            *block(256, 512),\n",
        "            *block(512, 1024),\n",
        "            nn.Linear(1024, int(np.prod(img_shape))),\n",
        "            nn.Tanh(),\n",
        "        )\n",
        "\n",
        "    def forward(self, z):\n",
        "        img = self.model(z)\n",
        "        img = img.view(img.size(0), *self.img_shape)\n",
        "        return img"
      ]
    },
    {
      "cell_type": "markdown",
      "id": "3265a748",
      "metadata": {
        "lines_to_next_cell": 2,
        "papermill": {
          "duration": 0.003253,
          "end_time": "2023-03-15T10:21:15.483846",
          "exception": false,
          "start_time": "2023-03-15T10:21:15.480593",
          "status": "completed"
        },
        "tags": [],
        "id": "3265a748"
      },
      "source": [
        "### B. Discriminator"
      ]
    },
    {
      "cell_type": "code",
      "execution_count": null,
      "id": "2d129c1e",
      "metadata": {
        "execution": {
          "iopub.execute_input": "2023-03-15T10:21:15.492000Z",
          "iopub.status.busy": "2023-03-15T10:21:15.491501Z",
          "iopub.status.idle": "2023-03-15T10:21:15.499144Z",
          "shell.execute_reply": "2023-03-15T10:21:15.498514Z"
        },
        "lines_to_next_cell": 2,
        "papermill": {
          "duration": 0.013463,
          "end_time": "2023-03-15T10:21:15.500580",
          "exception": false,
          "start_time": "2023-03-15T10:21:15.487117",
          "status": "completed"
        },
        "tags": [],
        "id": "2d129c1e"
      },
      "outputs": [],
      "source": [
        "class Discriminator(nn.Module):\n",
        "    def __init__(self, img_shape):\n",
        "        super().__init__()\n",
        "\n",
        "        self.model = nn.Sequential(\n",
        "            nn.Linear(int(np.prod(img_shape)), 512),\n",
        "            nn.LeakyReLU(0.2, inplace=True),\n",
        "            nn.Linear(512, 256),\n",
        "            nn.LeakyReLU(0.2, inplace=True),\n",
        "            nn.Linear(256, 1),\n",
        "            nn.Sigmoid(),\n",
        "        )\n",
        "\n",
        "    def forward(self, img):\n",
        "        img_flat = img.view(img.size(0), -1)\n",
        "        validity = self.model(img_flat)\n",
        "\n",
        "        return validity"
      ]
    },
    {
      "cell_type": "markdown",
      "id": "1e745b01",
      "metadata": {
        "lines_to_next_cell": 2,
        "papermill": {
          "duration": 0.003616,
          "end_time": "2023-03-15T10:21:15.509511",
          "exception": false,
          "start_time": "2023-03-15T10:21:15.505895",
          "status": "completed"
        },
        "tags": [],
        "id": "1e745b01"
      },
      "source": [
        "### C. GAN\n",
        "\n",
        "#### A couple of cool features to check out in this example...\n",
        "\n",
        "  - We use `some_tensor.type_as(another_tensor)` to make sure we initialize new tensors on the right device (i.e. GPU, CPU).\n",
        "    - Lightning will put your dataloader data on the right device automatically\n",
        "    - In this example, we pull from latent dim on the fly, so we need to dynamically add tensors to the right device.\n",
        "    - `type_as` is the way we recommend to do this.\n",
        "  - This example shows how to use multiple dataloaders in your `LightningModule`."
      ]
    },
    {
      "cell_type": "code",
      "execution_count": null,
      "id": "f2a9bb86",
      "metadata": {
        "execution": {
          "iopub.execute_input": "2023-03-15T10:21:15.515822Z",
          "iopub.status.busy": "2023-03-15T10:21:15.515367Z",
          "iopub.status.idle": "2023-03-15T10:21:15.535066Z",
          "shell.execute_reply": "2023-03-15T10:21:15.534671Z"
        },
        "papermill": {
          "duration": 0.025397,
          "end_time": "2023-03-15T10:21:15.537242",
          "exception": false,
          "start_time": "2023-03-15T10:21:15.511845",
          "status": "completed"
        },
        "tags": [],
        "id": "f2a9bb86"
      },
      "outputs": [],
      "source": [
        "class GAN(L.LightningModule):\n",
        "    def __init__(\n",
        "        self,\n",
        "        channels,\n",
        "        width,\n",
        "        height,\n",
        "        latent_dim: int = 100,\n",
        "        lr: float = 0.0002,\n",
        "        b1: float = 0.5,\n",
        "        b2: float = 0.999,\n",
        "        batch_size: int = BATCH_SIZE,\n",
        "        **kwargs,\n",
        "    ):\n",
        "        super().__init__()\n",
        "        self.save_hyperparameters()\n",
        "        self.automatic_optimization = False\n",
        "\n",
        "        # networks\n",
        "        data_shape = (channels, width, height)\n",
        "        self.generator = Generator(latent_dim=self.hparams.latent_dim, img_shape=data_shape)\n",
        "        self.discriminator = Discriminator(img_shape=data_shape)\n",
        "\n",
        "        self.validation_z = torch.randn(8, self.hparams.latent_dim)\n",
        "\n",
        "        self.example_input_array = torch.zeros(2, self.hparams.latent_dim)\n",
        "\n",
        "    def forward(self, z):\n",
        "        return self.generator(z)\n",
        "\n",
        "    def adversarial_loss(self, y_hat, y):\n",
        "        return F.binary_cross_entropy(y_hat, y)\n",
        "\n",
        "    def training_step(self, batch):\n",
        "        imgs, _ = batch\n",
        "\n",
        "        optimizer_g, optimizer_d = self.optimizers()\n",
        "\n",
        "        # sample noise\n",
        "        z = torch.randn(imgs.shape[0], self.hparams.latent_dim)\n",
        "        z = z.type_as(imgs)\n",
        "\n",
        "        # train generator\n",
        "        # generate images\n",
        "        self.toggle_optimizer(optimizer_g)\n",
        "        self.generated_imgs = self(z)\n",
        "\n",
        "        # log sampled images\n",
        "        sample_imgs = self.generated_imgs[:6]\n",
        "        grid = torchvision.utils.make_grid(sample_imgs)\n",
        "        self.logger.experiment.add_image(\"generated_images\", grid, 0)\n",
        "\n",
        "        # ground truth result (ie: all fake)\n",
        "        # put on GPU because we created this tensor inside training_loop\n",
        "        valid = torch.ones(imgs.size(0), 1)\n",
        "        valid = valid.type_as(imgs)\n",
        "\n",
        "        # adversarial loss is binary cross-entropy\n",
        "        g_loss = self.adversarial_loss(self.discriminator(self(z)), valid)\n",
        "        self.log(\"g_loss\", g_loss, prog_bar=True)\n",
        "        self.manual_backward(g_loss)\n",
        "        optimizer_g.step()\n",
        "        optimizer_g.zero_grad()\n",
        "        self.untoggle_optimizer(optimizer_g)\n",
        "\n",
        "        # train discriminator\n",
        "        # Measure discriminator's ability to classify real from generated samples\n",
        "        self.toggle_optimizer(optimizer_d)\n",
        "\n",
        "        # how well can it label as real?\n",
        "        valid = torch.ones(imgs.size(0), 1)\n",
        "        valid = valid.type_as(imgs)\n",
        "\n",
        "        real_loss = self.adversarial_loss(self.discriminator(imgs), valid)\n",
        "\n",
        "        # how well can it label as fake?\n",
        "        fake = torch.zeros(imgs.size(0), 1)\n",
        "        fake = fake.type_as(imgs)\n",
        "\n",
        "        fake_loss = self.adversarial_loss(self.discriminator(self(z).detach()), fake)\n",
        "\n",
        "        # discriminator loss is the average of these\n",
        "        d_loss = (real_loss + fake_loss) / 2\n",
        "        self.log(\"d_loss\", d_loss, prog_bar=True)\n",
        "        self.manual_backward(d_loss)\n",
        "        optimizer_d.step()\n",
        "        optimizer_d.zero_grad()\n",
        "        self.untoggle_optimizer(optimizer_d)\n",
        "\n",
        "    def configure_optimizers(self):\n",
        "        lr = self.hparams.lr\n",
        "        b1 = self.hparams.b1\n",
        "        b2 = self.hparams.b2\n",
        "\n",
        "        opt_g = torch.optim.Adam(self.generator.parameters(), lr=lr, betas=(b1, b2))\n",
        "        opt_d = torch.optim.Adam(self.discriminator.parameters(), lr=lr, betas=(b1, b2))\n",
        "        return [opt_g, opt_d], []\n",
        "\n",
        "    def on_validation_epoch_end(self):\n",
        "        z = self.validation_z.type_as(self.generator.model[0].weight)\n",
        "\n",
        "        # log sampled images\n",
        "        sample_imgs = self(z)\n",
        "        grid = torchvision.utils.make_grid(sample_imgs)\n",
        "        self.logger.experiment.add_image(\"generated_images\", grid, self.current_epoch)"
      ]
    },
    {
      "cell_type": "code",
      "execution_count": null,
      "id": "c163326a",
      "metadata": {
        "execution": {
          "iopub.execute_input": "2023-03-15T10:21:15.547233Z",
          "iopub.status.busy": "2023-03-15T10:21:15.547005Z",
          "iopub.status.idle": "2023-03-15T10:22:04.150667Z",
          "shell.execute_reply": "2023-03-15T10:22:04.149558Z"
        },
        "papermill": {
          "duration": 48.611981,
          "end_time": "2023-03-15T10:22:04.153841",
          "exception": false,
          "start_time": "2023-03-15T10:21:15.541860",
          "status": "completed"
        },
        "tags": [],
        "id": "c163326a"
      },
      "outputs": [],
      "source": [
        "dm = MNISTDataModule()\n",
        "model = GAN(*dm.dims)\n",
        "trainer = L.Trainer(\n",
        "    accelerator=\"auto\",\n",
        "    devices=1,\n",
        "    max_epochs=5,\n",
        ")\n",
        "trainer.fit(model, dm)"
      ]
    },
    {
      "cell_type": "code",
      "execution_count": null,
      "id": "d9426a5f",
      "metadata": {
        "execution": {
          "iopub.execute_input": "2023-03-15T10:22:04.169265Z",
          "iopub.status.busy": "2023-03-15T10:22:04.168696Z",
          "iopub.status.idle": "2023-03-15T10:22:05.415698Z",
          "shell.execute_reply": "2023-03-15T10:22:05.414464Z"
        },
        "papermill": {
          "duration": 1.25487,
          "end_time": "2023-03-15T10:22:05.418252",
          "exception": false,
          "start_time": "2023-03-15T10:22:04.163382",
          "status": "completed"
        },
        "tags": [],
        "id": "d9426a5f"
      },
      "outputs": [],
      "source": [
        "# Start tensorboard.\n",
        "%load_ext tensorboard\n",
        "%tensorboard --logdir lightning_logs/"
      ]
    },
    {
      "cell_type": "markdown",
      "id": "a17e9b42",
      "metadata": {
        "papermill": {
          "duration": 0.003681,
          "end_time": "2023-03-15T10:22:05.428873",
          "exception": false,
          "start_time": "2023-03-15T10:22:05.425192",
          "status": "completed"
        },
        "tags": [],
        "id": "a17e9b42"
      },
      "source": [
        "## Congratulations - Time to Join the Community!\n",
        "\n",
        "Congratulations on completing this notebook tutorial! If you enjoyed this and would like to join the Lightning\n",
        "movement, you can do so in the following ways!\n",
        "\n",
        "### Star [Lightning](https://github.com/Lightning-AI/lightning) on GitHub\n",
        "The easiest way to help our community is just by starring the GitHub repos! This helps raise awareness of the cool\n",
        "tools we're building.\n",
        "\n",
        "### Join our [Slack](https://www.pytorchlightning.ai/community)!\n",
        "The best way to keep up to date on the latest advancements is to join our community! Make sure to introduce yourself\n",
        "and share your interests in `#general` channel\n",
        "\n",
        "\n",
        "### Contributions !\n",
        "The best way to contribute to our community is to become a code contributor! At any time you can go to\n",
        "[Lightning](https://github.com/Lightning-AI/lightning) or [Bolt](https://github.com/Lightning-AI/lightning-bolts)\n",
        "GitHub Issues page and filter for \"good first issue\".\n",
        "\n",
        "* [Lightning good first issue](https://github.com/Lightning-AI/lightning/issues?q=is%3Aopen+is%3Aissue+label%3A%22good+first+issue%22)\n",
        "* [Bolt good first issue](https://github.com/Lightning-AI/lightning-bolts/issues?q=is%3Aopen+is%3Aissue+label%3A%22good+first+issue%22)\n",
        "* You can also contribute your own notebooks with useful examples !\n",
        "\n",
        "### Great thanks from the entire Pytorch Lightning Team for your interest !\n",
        "https://pytorchlightning.ai"
      ]
    }
  ],
  "metadata": {
    "jupytext": {
      "cell_metadata_filter": "id,colab,colab_type,-all",
      "formats": "ipynb,py:percent",
      "main_language": "python"
    },
    "language_info": {
      "name": "python"
    },
    "papermill": {
      "default_parameters": {},
      "duration": 59.481877,
      "end_time": "2023-03-15T10:22:08.354255",
      "environment_variables": {},
      "exception": null,
      "input_path": "lightning_examples/basic-gan/gan.ipynb",
      "output_path": ".notebooks/lightning_examples/basic-gan.ipynb",
      "parameters": {},
      "start_time": "2023-03-15T10:21:08.872378",
      "version": "2.4.0"
    },
    "colab": {
      "provenance": [],
      "machine_shape": "hm",
      "gpuType": "V100"
    },
    "kernelspec": {
      "name": "python3",
      "display_name": "Python 3"
    },
    "gpuClass": "standard",
    "accelerator": "GPU"
  },
  "nbformat": 4,
  "nbformat_minor": 5
}