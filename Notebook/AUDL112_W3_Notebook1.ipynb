{
  "nbformat": 4,
  "nbformat_minor": 0,
  "metadata": {
    "colab": {
      "provenance": []
    },
    "kernelspec": {
      "display_name": "Python 3",
      "language": "python",
      "name": "python3"
    },
    "language_info": {
      "codemirror_mode": {
        "name": "ipython",
        "version": 3
      },
      "file_extension": ".py",
      "mimetype": "text/x-python",
      "name": "python",
      "nbconvert_exporter": "python",
      "pygments_lexer": "ipython3",
      "version": "3.7.6"
    }
  },
  "cells": [
    {
      "cell_type": "markdown",
      "metadata": {
        "id": "EUjJ7ImLnPVr"
      },
      "source": [
        "<img src=\"https://i.ibb.co/qjt4Ymb/2022-09-19-004719.png\" alt=\"2022-09-19-004719\" border=\"0\">\n",
        "\n",
        "# 亞洲大學112深度學習教材(AUDL112-W3-Notebook1)\n",
        "[![Open In Colab](https://colab.research.google.com/assets/colab-badge.svg)](https://colab.research.google.com/github/googlecolab/colabtools/blob/master/notebooks/colab-github-demo.ipynb)\n",
        "\n",
        "# NumPy 基礎教學\n",
        "\n",
        "**NumPy** 是科學計算的基礎包。 它是一個 **Python** 語言實現，包括：\n",
        "\n",
        "* 強大的N維數組結構\n",
        "* 複雜的功能\n",
        "* 可集成到 C/C++ 和 Fortran 代碼中的工具\n",
        "* 線性代數、傅里葉變換和隨機數特徵\n",
        "\n",
        "除了用於科學計算之外，NumPy 還可以作為通用數據的高效多維容器。 因為它可以處理任何類型的數據，NumPy 可以無縫且高效地集成到多種類型的數據庫中。\n",
        "\n",
        "1. [ndarray](#1)\n",
        "2. [創建特定數組](#2)\n",
        "3. [形狀與操作](#3)\n",
        "4. [索引](#4)\n",
        "5. [數學](#5)\n",
        "6. [矩陣](#6)\n",
        "7. [數數](#7)"
      ]
    },
    {
      "cell_type": "markdown",
      "metadata": {
        "id": "Zk0MAMNlo_gx"
      },
      "source": [
        "## Topic 1-ndarray 介紹\n",
        "\n",
        "* NumPy的資料類別是 ndarray，它有一個別名 numpy.array，但它與 Python 標準庫中的 array.array 不同。\n",
        "\n",
        "* Python 標準庫中的 list <==> ndarray"
      ]
    },
    {
      "cell_type": "code",
      "metadata": {
        "id": "X-HFB-nRrGDe"
      },
      "source": [
        "import numpy as np # linear algebra\n",
        "import pandas as pd # data processing, CSV file I/O (e.g. pd.read_csv)"
      ],
      "execution_count": null,
      "outputs": []
    },
    {
      "cell_type": "code",
      "source": [
        "a = [1,2,3]\n",
        "type(a)"
      ],
      "metadata": {
        "id": "tz7o2ZBTNVlz"
      },
      "execution_count": null,
      "outputs": []
    },
    {
      "cell_type": "code",
      "source": [
        "b = np.array([1, 2, 3])\n",
        "type(b)"
      ],
      "metadata": {
        "id": "PkalNq2-NafX"
      },
      "execution_count": null,
      "outputs": []
    },
    {
      "cell_type": "markdown",
      "source": [
        "我們可以通過np.array函數創建一個NumPy各種維度的資料型別，例如："
      ],
      "metadata": {
        "id": "ygAizojINqNH"
      }
    },
    {
      "cell_type": "code",
      "source": [
        "a = np.array([1, 2, 3])\n",
        "b = np.array([(1,2,3), (4,5,6)])\n",
        "\n",
        "print(\"a: \",a)\n",
        "print(\"b: \",b)"
      ],
      "metadata": {
        "id": "zUuTzC06N0Un"
      },
      "execution_count": null,
      "outputs": []
    },
    {
      "cell_type": "code",
      "source": [
        "a.shape"
      ],
      "metadata": {
        "id": "D_WDOzC-N71q"
      },
      "execution_count": null,
      "outputs": []
    },
    {
      "cell_type": "code",
      "source": [
        "b.shape"
      ],
      "metadata": {
        "id": "U0zqWmtaN9vN"
      },
      "execution_count": null,
      "outputs": []
    },
    {
      "cell_type": "markdown",
      "source": [
        "ndarray的屬性如下\n",
        "\n",
        "* **ndarray.ndim:** 資料的維數。\n",
        "* **ndarray.shape:** 資料。\n",
        "* **ndarray.size:** 資料所有元素的個數。\n",
        "* **ndarray.dtype：**資料元素的類型，如numpy.int32、numpy.int16或numpy.float64。\n",
        "* **ndarray.itemsize:** 資料中每個元素的大小，以字節為單位。\n",
        "* **ndarray.data:** 用於存儲資料元素的緩衝。"
      ],
      "metadata": {
        "id": "V8N78xejNSIE"
      }
    },
    {
      "cell_type": "code",
      "source": [
        "a = np.array([1, 2, 3])\n",
        "b = np.array([(1,2,3), (4,5,6)])\n",
        "\n",
        "print('a=')\n",
        "print(a)\n",
        "print(\"a's ndim {}\".format(a.ndim))\n",
        "print(\"a's shape {}\".format(a.shape))\n",
        "print(\"a's size {}\".format(a.size))\n",
        "print(\"a's dtype {}\".format(a.dtype))\n",
        "print(\"a's itemsize {}\".format(a.itemsize))\n",
        "\n",
        "print('')\n",
        "\n",
        "print('b=')\n",
        "print(b)\n",
        "print(\"b's ndim {}\".format(b.ndim))\n",
        "print(\"b's shape {}\".format(b.shape))\n",
        "print(\"b's size {}\".format(b.size))\n",
        "print(\"b's dtype {}\".format(b.dtype))\n",
        "print(\"b's itemsize {}\".format(b.itemsize))"
      ],
      "metadata": {
        "id": "Z5GaZ8kJOn9B"
      },
      "execution_count": null,
      "outputs": []
    },
    {
      "cell_type": "markdown",
      "source": [
        "## Topic 2-創建特定陣列資料\n",
        "\n",
        "* **zeros:** 用於創建元素全為0的陣列資料。\n",
        "* **ones:** 用於創建元素全為1的陣列資料。\n",
        "* **empty:** 用於創建未初始化的陣列資料。 所以內容是未定義的。\n",
        "* **arange:** 用於通過指定範圍和步長來創建陣列資料。\n",
        "* **linespace:** 用於通過指定範圍和元素個數來創建陣列資料。\n",
        "* **random:** 用於生成隨機數"
      ],
      "metadata": {
        "id": "eKlrQVs2iP5J"
      }
    },
    {
      "cell_type": "code",
      "source": [
        "a = np.zeros((2,3), dtype=int)\n",
        "print(f'np.zeros((2,3)= \\n{a}\\n')"
      ],
      "metadata": {
        "id": "oLCVxO0fPUP3"
      },
      "execution_count": null,
      "outputs": []
    },
    {
      "cell_type": "code",
      "source": [
        "b = np.ones((2,3), dtype=int)\n",
        "print(f'np.ones((2,3))= \\n{b}\\n')"
      ],
      "metadata": {
        "id": "jjO78nzNPcPw"
      },
      "execution_count": null,
      "outputs": []
    },
    {
      "cell_type": "code",
      "source": [
        "zero_line = np.zeros((1,3))\n",
        "one_column = np.ones((3,1))\n",
        "print(\"zero_line = \\n{}\\n\".format(zero_line))\n",
        "print(\"one_column = \\n{}\\n\".format(one_column))\n",
        "\n",
        "a = np.array([(1,2,3), (4,5,6)])\n",
        "b = np.arange(11, 20)\n",
        "print(\"a = \\n{}\\n\".format(a))\n",
        "print(\"b = \\n{}\\n\".format(b))"
      ],
      "metadata": {
        "id": "pJljnRHjPHbU"
      },
      "execution_count": null,
      "outputs": []
    },
    {
      "cell_type": "code",
      "source": [
        "b = b.reshape(3, -1)\n",
        "print(f\"b.reshape(3, -1) = \\n{b}\\n\")"
      ],
      "metadata": {
        "id": "AaWN-KzgPH6u"
      },
      "execution_count": null,
      "outputs": []
    },
    {
      "cell_type": "markdown",
      "source": [
        "Python中使用input()函數讀入輸入的資料。\n",
        "\n",
        "呼叫一次input()函數會輸入一個字串。\n",
        "\n",
        "如果我們要輸入一個整數或浮點數。可以使用int()或float()函數"
      ],
      "metadata": {
        "id": "zh0V-6MTiaf7"
      }
    },
    {
      "cell_type": "code",
      "source": [
        "instr = input('Please input your score：')\n",
        "score = int(instr)  #變整數\n",
        "print(score)      #列印變數的值\n",
        "print(type(score))   #列印變數的型別"
      ],
      "metadata": {
        "id": "8kzBNxX8idFK"
      },
      "execution_count": null,
      "outputs": []
    },
    {
      "cell_type": "markdown",
      "source": [
        "算術運算子和表示式(expressions)\n",
        "數值運算符號（Arithmetic Operators）\n",
        "```\n",
        "+ - * / #加減乘除\n",
        "** #次方\n",
        "// #商\n",
        "%  #餘數\n",
        "```"
      ],
      "metadata": {
        "id": "9dyhDBP3igFm"
      }
    },
    {
      "cell_type": "code",
      "source": [
        "print(1 + 2)\n",
        "print(3 - 4)\n",
        "print(5 * 6)\n",
        "print(12 / 5)"
      ],
      "metadata": {
        "id": "aufzPBGZiolH"
      },
      "execution_count": null,
      "outputs": []
    },
    {
      "cell_type": "code",
      "source": [
        "print(23 / 5)\n",
        "print(23 // 5)\n",
        "print(23 % 5)"
      ],
      "metadata": {
        "id": "zkBMZ2MOiqxK"
      },
      "execution_count": null,
      "outputs": []
    },
    {
      "cell_type": "code",
      "source": [
        "print(23 * 2)\n",
        "print(23 ** 2)"
      ],
      "metadata": {
        "id": "VrzNPTzfitMr"
      },
      "execution_count": null,
      "outputs": []
    },
    {
      "cell_type": "markdown",
      "source": [
        "## Topic 3-形狀和運算（Shape and operation）\n",
        "In addition to generating an array, after we have held some data, we may need to generate some new data structures based on the existing array. In this case, we can use the following functions:\n",
        "\n",
        "* **reshape:** used to generate a new array based on the existing array and the specified shape\n",
        "* **vstack:** used to stack multiple arrays in vertical direction (the dimensions of the array must be matched)\n",
        "* **hstack:** used to stack multiple arrays in horizontal direction (the dimensions of the array must be matched)\n",
        "* **hsplit:** used to split the array horizontally\n",
        "* **vsplit:** used to split the array vertically\n",
        "\n",
        "We'll use some examples to illustrate.\n",
        "\n",
        "To make it easier to test, let's create a few data:\n",
        "\n",
        "* **zero_line:** an array with a row containing three 0\n",
        "* **one_column:** an array with a column containing three 1\n",
        "* **a:** a matrix with 2 rows and 3 columns\n",
        "* **b:** an integer array in the interval of [11,20]"
      ],
      "metadata": {
        "id": "g7Qz8Pcwiyuh"
      }
    },
    {
      "cell_type": "code",
      "source": [
        "zero_line = np.zeros((1,3))\n",
        "one_column = np.ones((3,1))\n",
        "print(\"zero_line = \\n{}\\n\".format(zero_line))\n",
        "print(\"one_column = \\n{}\\n\".format(one_column))\n",
        "\n",
        "a = np.array([(1,2,3), (4,5,6)])\n",
        "b = np.arange(11, 20)\n",
        "print(\"a = \\n{}\\n\".format(a))\n",
        "print(\"b = \\n{}\\n\".format(b))"
      ],
      "metadata": {
        "id": "A_UNByUujBJ-"
      },
      "execution_count": null,
      "outputs": []
    },
    {
      "cell_type": "code",
      "source": [
        "b = b.reshape(3, -1)\n",
        "print(\"b.reshape(3, -1) = \\n{}\\n\".format(b))"
      ],
      "metadata": {
        "id": "Sswrl5PBito0"
      },
      "execution_count": null,
      "outputs": []
    },
    {
      "cell_type": "markdown",
      "source": [
        "## Topic 4-Indexing and Slicing\n"
      ],
      "metadata": {
        "id": "Bd0H5BMwjFv5"
      }
    },
    {
      "cell_type": "markdown",
      "source": [
        "For testing convenience, let's create a one-dimensional array first. Its content is integers in the interval of [100,200).\n",
        "\n",
        "Basically, we can specify the subscripts by array[index] to access the elements of the array."
      ],
      "metadata": {
        "id": "UX6WWutI-oPQ"
      }
    },
    {
      "cell_type": "code",
      "source": [
        "base_data = np.arange(100, 200)\n",
        "print(\"base_data\\n={}\\n\".format(base_data))\n",
        "\n",
        "print(\"base_data[10] = {}\\n\".format(base_data[10]))"
      ],
      "metadata": {
        "id": "R1efRBhWjHOr"
      },
      "execution_count": null,
      "outputs": []
    },
    {
      "cell_type": "code",
      "source": [
        "every_five = np.arange(0, 100, 5)\n",
        "print(\"base_data[every_five] = \\n{}\\n\".format(\n",
        "    base_data[every_five]))"
      ],
      "metadata": {
        "id": "Qvj2NsrZjg_w"
      },
      "execution_count": null,
      "outputs": []
    },
    {
      "cell_type": "markdown",
      "source": [
        "The subscript array can be one-dimensional, or multi-dimensional. Let's suppose that we want to get a 2X2 matrix whose content comes from the four subscripts of 1, 2, 10, and 20 in the target array, so the code can be written:"
      ],
      "metadata": {
        "id": "LnYzWrKe-tKv"
      }
    },
    {
      "cell_type": "code",
      "source": [
        "a = np.array([(1,2), (10,20)])\n",
        "print(\"a = \\n{}\\n\".format(a))\n",
        "print(\"base_data[a] = \\n{}\\n\".format(base_data[a]))"
      ],
      "metadata": {
        "id": "VrqGsGI6jivN"
      },
      "execution_count": null,
      "outputs": []
    },
    {
      "cell_type": "markdown",
      "source": [
        "## Topic 5-Mathematics\n",
        "\n",
        "\n"
      ],
      "metadata": {
        "id": "fNlJcPzMj6F-"
      }
    },
    {
      "cell_type": "code",
      "source": [
        "base_data = (np.random.random((5, 5)) - 0.5) * 100\n",
        "print(\"base_data = \\n{}\\n\".format(base_data))\n",
        "\n",
        "print(\"np.amin(base_data) = {}\".format(np.amin(base_data)))\n",
        "print(\"np.amax(base_data) = {}\".format(np.amax(base_data)))\n",
        "print(\"np.average(base_data) = {}\".format(np.average(base_data)))\n",
        "print(\"np.sum(base_data) = {}\".format(np.sum(base_data)))\n",
        "print(\"np.sin(base_data) = \\n{}\".format(np.sin(base_data)))"
      ],
      "metadata": {
        "id": "4MDy91SOkM4t"
      },
      "execution_count": null,
      "outputs": []
    },
    {
      "cell_type": "code",
      "source": [
        "arr = np.arange(1,20)\n",
        "arr = arr * arr              #Multiplies each element by itself\n",
        "print(\"Multpiles: \",arr)\n",
        "arr = arr - arr              #Subtracts each element from itself\n",
        "print(\"Substracts: \",arr)\n",
        "arr = np.arange(1,20)\n",
        "arr = arr + arr              #Adds each element to itself\n",
        "print(\"Add: \",arr)\n",
        "arr = arr / arr              #Divides each element by itself\n",
        "print(\"Divide: \",arr)\n",
        "arr = np.arange(1,20)\n",
        "arr = arr + 50\n",
        "print(\"Add +50: \",arr)"
      ],
      "metadata": {
        "id": "s3lgCZ46kPPi"
      },
      "execution_count": null,
      "outputs": []
    },
    {
      "cell_type": "code",
      "source": [
        "print('Hello', students[-3])\n",
        "print('Hello', students[-2])\n",
        "print('Hello', students[-1])"
      ],
      "metadata": {
        "id": "-LJcZkFHqyAz"
      },
      "execution_count": null,
      "outputs": []
    },
    {
      "cell_type": "code",
      "source": [
        "print(\"Sqrt: \",np.sqrt(arr))#Returns the square root of each element\n",
        "print(\"Exp: \",np.exp(arr))     #Returns the exponentials of each element\n",
        "print(\"Sin: \",np.sin(arr))     #Returns the sin of each element\n",
        "print(\"Cos: \",np.cos(arr))     #Returns the cosine of each element\n",
        "print(\"Log: \",np.log(arr))     #Returns the logarithm of each element\n",
        "print(\"Sum: \",np.sum(arr))     #Returns the sum total of elements in the array\n",
        "print(\"Std: \",np.std(arr))     #Returns the standard deviation of in the array"
      ],
      "metadata": {
        "id": "Dc1GVcdOkSiA"
      },
      "execution_count": null,
      "outputs": []
    },
    {
      "cell_type": "markdown",
      "source": [
        "## Topic 6-Random Number(亂數)"
      ],
      "metadata": {
        "id": "wlJkHJjjlFif"
      }
    },
    {
      "cell_type": "code",
      "source": [
        "print(\"random: {}\\n\".format(np.random.random(20)));\n",
        "\n",
        "print(\"rand: {}\\n\".format(np.random.rand(3, 4)));\n",
        "\n",
        "print(\"randint: {}\\n\".format(np.random.randint(0, 100, 20)));\n",
        "\n",
        "print(\"permutation: {}\\n\".format(np.random.permutation(np.arange(20))));"
      ],
      "metadata": {
        "id": "GhdhXDChkWQ8"
      },
      "execution_count": null,
      "outputs": []
    }
  ]
}