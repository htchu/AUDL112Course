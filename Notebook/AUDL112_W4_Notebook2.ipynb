{
  "nbformat": 4,
  "nbformat_minor": 0,
  "metadata": {
    "colab": {
      "provenance": []
    },
    "kernelspec": {
      "display_name": "Python 3",
      "language": "python",
      "name": "python3"
    }
  },
  "cells": [
    {
      "metadata": {
        "id": "zgFH05iHMqvo"
      },
      "cell_type": "markdown",
      "source": [
        "<img src=\"https://i.ibb.co/qjt4Ymb/2022-09-19-004719.png\" alt=\"2022-09-19-004719\" border=\"0\">\n",
        "\n",
        "# 亞洲大學112深度學習教材(AUDL112-W4-Notebook2)\n",
        "[![Open In Colab](https://colab.research.google.com/assets/colab-badge.svg)](https://colab.research.google.com/github/googlecolab/colabtools/blob/master/notebooks/colab-github-demo.ipynb)\n",
        "\n",
        "# 機器學習基礎教學\n"
      ]
    },
    {
      "metadata": {
        "id": "EhqvIEmBMqvp"
      },
      "cell_type": "code",
      "source": [
        "import sklearn\n",
        "import numpy as np\n",
        "from sklearn.model_selection import train_test_split\n",
        "from sklearn import datasets\n",
        "import time\n",
        "iris = datasets.load_iris()\n",
        "X = iris.data\n",
        "y = iris.target\n",
        "\n",
        "X_train, X_test, y_train, y_test = train_test_split(X, y, test_size=0.333)\n",
        "#print(len(X_train), len(X_test))\n",
        "def print_accuracy(f):\n",
        "    print(\"Accuracy = {0}%\".format(100*np.sum(f(X_test) == y_test)/len(y_test)))\n",
        "    time.sleep(0.5) # to let the print get out before any progress bars"
      ],
      "execution_count": null,
      "outputs": []
    },
    {
      "metadata": {
        "id": "ZqlZ6fKgMqvs",
        "colab": {
          "base_uri": "https://localhost:8080/"
        },
        "outputId": "54b6d96c-e4af-4346-8b76-f3e62196e879"
      },
      "cell_type": "code",
      "source": [
        "#KNN: k-nearest neighbors\n",
        "from sklearn.neighbors import KNeighborsClassifier\n",
        "knn = KNeighborsClassifier()\n",
        "knn.fit(X_train, y_train)\n",
        "print_accuracy(knn.predict)"
      ],
      "execution_count": null,
      "outputs": [
        {
          "output_type": "stream",
          "name": "stdout",
          "text": [
            "Accuracy = 96.0%\n"
          ]
        }
      ]
    },
    {
      "metadata": {
        "id": "Cie9fYRfMqvw",
        "outputId": "cc43df57-bbd4-4cf0-81a2-8baef03e6abf",
        "colab": {
          "base_uri": "https://localhost:8080/"
        }
      },
      "cell_type": "code",
      "source": [
        "#SVM: Support vector machine with a linear kernel\n",
        "from sklearn.svm import SVC\n",
        "svc_linear = SVC(kernel='linear', probability=True)\n",
        "svc_linear.fit(X_train, y_train)\n",
        "print_accuracy(svc_linear.predict)"
      ],
      "execution_count": null,
      "outputs": [
        {
          "output_type": "stream",
          "name": "stdout",
          "text": [
            "Accuracy = 98.0%\n"
          ]
        }
      ]
    },
    {
      "metadata": {
        "id": "Vn2bCoy-Mqvz",
        "outputId": "74ca7dfe-e341-40e0-fc87-1f40efa52709",
        "colab": {
          "base_uri": "https://localhost:8080/"
        }
      },
      "cell_type": "code",
      "source": [
        "#DT: Decision tree\n",
        "from sklearn.linear_model import LogisticRegression\n",
        "linear_lr = LogisticRegression()\n",
        "linear_lr.fit(X_train, y_train)\n",
        "print_accuracy(linear_lr.predict)"
      ],
      "execution_count": null,
      "outputs": [
        {
          "output_type": "stream",
          "name": "stderr",
          "text": [
            "/usr/local/lib/python3.7/dist-packages/sklearn/linear_model/_logistic.py:818: ConvergenceWarning: lbfgs failed to converge (status=1):\n",
            "STOP: TOTAL NO. of ITERATIONS REACHED LIMIT.\n",
            "\n",
            "Increase the number of iterations (max_iter) or scale the data as shown in:\n",
            "    https://scikit-learn.org/stable/modules/preprocessing.html\n",
            "Please also refer to the documentation for alternative solver options:\n",
            "    https://scikit-learn.org/stable/modules/linear_model.html#logistic-regression\n",
            "  extra_warning_msg=_LOGISTIC_SOLVER_CONVERGENCE_MSG,\n"
          ]
        },
        {
          "output_type": "stream",
          "name": "stdout",
          "text": [
            "Accuracy = 94.0%\n"
          ]
        }
      ]
    },
    {
      "metadata": {
        "id": "UM3ZnJMqMqv2",
        "outputId": "699915f0-1722-41e4-8958-7314998223a8",
        "colab": {
          "base_uri": "https://localhost:8080/"
        }
      },
      "cell_type": "code",
      "source": [
        "#RF: Random forest\n",
        "from sklearn.ensemble import RandomForestClassifier\n",
        "rforest = RandomForestClassifier(n_estimators=100, max_depth=None, min_samples_split=2, random_state=0)\n",
        "rforest.fit(X_train, y_train)\n",
        "print_accuracy(rforest.predict)"
      ],
      "execution_count": null,
      "outputs": [
        {
          "output_type": "stream",
          "name": "stdout",
          "text": [
            "Accuracy = 94.0%\n"
          ]
        }
      ]
    },
    {
      "metadata": {
        "id": "3ZtwFWyEMqv4",
        "outputId": "e993244f-fa56-4393-f1b8-c296643650de",
        "colab": {
          "base_uri": "https://localhost:8080/"
        }
      },
      "cell_type": "code",
      "source": [
        "#NN: Neural network (MLP)\n",
        "from sklearn.neural_network import MLPClassifier\n",
        "nn = MLPClassifier(solver='lbfgs', alpha=1e-1, hidden_layer_sizes=(5, 2), random_state=0)\n",
        "nn.fit(X_train, y_train)\n",
        "print_accuracy(nn.predict)"
      ],
      "execution_count": null,
      "outputs": [
        {
          "output_type": "stream",
          "name": "stderr",
          "text": [
            "/usr/local/lib/python3.7/dist-packages/sklearn/neural_network/_multilayer_perceptron.py:549: ConvergenceWarning: lbfgs failed to converge (status=1):\n",
            "STOP: TOTAL NO. of ITERATIONS REACHED LIMIT.\n",
            "\n",
            "Increase the number of iterations (max_iter) or scale the data as shown in:\n",
            "    https://scikit-learn.org/stable/modules/preprocessing.html\n",
            "  self.n_iter_ = _check_optimize_result(\"lbfgs\", opt_res, self.max_iter)\n"
          ]
        },
        {
          "output_type": "stream",
          "name": "stdout",
          "text": [
            "Accuracy = 92.0%\n"
          ]
        }
      ]
    },
    {
      "metadata": {
        "id": "XLtNoWsWMqv7"
      },
      "cell_type": "code",
      "source": [],
      "execution_count": null,
      "outputs": []
    }
  ]
}