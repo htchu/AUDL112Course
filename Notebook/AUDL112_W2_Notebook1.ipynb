{
  "nbformat": 4,
  "nbformat_minor": 0,
  "metadata": {
    "colab": {
      "provenance": [],
      "collapsed_sections": [
        "VnMo1y-kujl2",
        "SikgZwdSsjnz",
        "CDPEHTzDrQ0C"
      ]
    },
    "kernelspec": {
      "display_name": "Python 3",
      "language": "python",
      "name": "python3"
    },
    "language_info": {
      "codemirror_mode": {
        "name": "ipython",
        "version": 3
      },
      "file_extension": ".py",
      "mimetype": "text/x-python",
      "name": "python",
      "nbconvert_exporter": "python",
      "pygments_lexer": "ipython3",
      "version": "3.7.6"
    }
  },
  "cells": [
    {
      "cell_type": "markdown",
      "metadata": {
        "id": "EUjJ7ImLnPVr"
      },
      "source": [
        "<img src=\"https://i.ibb.co/qjt4Ymb/2022-09-19-004719.png\" alt=\"2022-09-19-004719\" border=\"0\">\n",
        "\n",
        "# 亞洲大學112深度學習教材(AUDL112-W2-Notebook1)\n",
        "[![Open In Colab](https://colab.research.google.com/assets/colab-badge.svg)](https://colab.research.google.com/github/googlecolab/colabtools/blob/master/notebooks/colab-github-demo.ipynb)\n"
      ]
    },
    {
      "cell_type": "markdown",
      "metadata": {
        "id": "Zk0MAMNlo_gx"
      },
      "source": [
        "## Topic 1-Python & Colab 介紹\n",
        "\n",
        "Python (https://www.python.org/) 是一種腳本程式語言，意思是只要寫好一行的指令就可以執行。\n",
        "\n",
        "Google Colab (https://colab.research.google.com/) 提供最簡單的方式來編寫和執行Python程式語言。在下面每一個程式區塊(code cell) 都可以單獨執行。而比較大的程式，程式可以跨區塊執行。\n",
        "\n",
        "Python是易學、功能強大的程式語言。在本課程中，我們會介紹Python基本語法(變數、運算、流程控制和資料結構)等，讓同學在未來可以做為學習進階資料科學或深度學習等課程的基礎。\n",
        "\n",
        "完成第一個程式很簡單，在所有程式語言，第一個程式叫Hello程式，Python 的Hello程式超簡單，就是下面一行：\n",
        "\n",
        "```\n",
        "print('Hello World')\n",
        "```\n",
        "\n"
      ]
    },
    {
      "cell_type": "code",
      "metadata": {
        "id": "X-HFB-nRrGDe",
        "colab": {
          "base_uri": "https://localhost:8080/"
        },
        "outputId": "ad0a735f-a95f-4496-c2d4-dc5e6cdff370"
      },
      "source": [
        "#把Hello World程式貼在這個下面，然後按左側的執行鍵或(Ctrl+Enter鍵)....\n",
        "print('Hello World')"
      ],
      "execution_count": null,
      "outputs": [
        {
          "output_type": "stream",
          "name": "stdout",
          "text": [
            "Hello World\n"
          ]
        }
      ]
    },
    {
      "cell_type": "markdown",
      "metadata": {
        "id": "g-ZT0jKHrSts"
      },
      "source": [
        "在上面程式，我們使用了一個函數print()，print會合併其輸入的參數，然後，輸出一行的文字。\n",
        "\n",
        "下面我們有各種Hello World程式的變型。大家可以觀察其不同。\n"
      ]
    },
    {
      "cell_type": "markdown",
      "source": [
        "## Topic 2-Python的變數和運算\n",
        "\n",
        "![image](https://i.ibb.co/bBfRNXV/ipo3.png)"
      ],
      "metadata": {
        "id": "eKlrQVs2iP5J"
      }
    },
    {
      "cell_type": "markdown",
      "source": [
        "Python中使用input()函數讀入輸入的資料。\n",
        "\n",
        "呼叫一次input()函數會輸入一個字串。\n",
        "\n",
        "如果我們要輸入一個整數或浮點數。可以使用int()或float()函數"
      ],
      "metadata": {
        "id": "zh0V-6MTiaf7"
      }
    },
    {
      "cell_type": "code",
      "source": [
        "instr = input('Please input your score：')\n",
        "score = int(instr)  #變整數\n",
        "print(score)      #列印變數的值\n",
        "print(type(score))   #列印變數的型別"
      ],
      "metadata": {
        "id": "8kzBNxX8idFK",
        "colab": {
          "base_uri": "https://localhost:8080/"
        },
        "outputId": "61064e0f-2300-4b2f-9093-5e3f9c06546b"
      },
      "execution_count": null,
      "outputs": [
        {
          "output_type": "stream",
          "name": "stdout",
          "text": [
            "Please input your score：77\n",
            "77\n",
            "<class 'int'>\n"
          ]
        }
      ]
    },
    {
      "cell_type": "markdown",
      "source": [
        "算術運算子和表示式(expressions)\n",
        "數值運算符號（Arithmetic Operators）\n",
        "```\n",
        "+ - * / #加減乘除\n",
        "** #次方\n",
        "// #商\n",
        "%  #餘數\n",
        "```"
      ],
      "metadata": {
        "id": "9dyhDBP3igFm"
      }
    },
    {
      "cell_type": "code",
      "source": [
        "print(1 + 2)\n",
        "print(3 - 4)\n",
        "print(5 * 6)\n",
        "print(12 / 5)"
      ],
      "metadata": {
        "id": "aufzPBGZiolH",
        "colab": {
          "base_uri": "https://localhost:8080/"
        },
        "outputId": "1f48f5e6-7bb1-4fca-80d2-7810f77b2fe3"
      },
      "execution_count": null,
      "outputs": [
        {
          "output_type": "stream",
          "name": "stdout",
          "text": [
            "3\n",
            "-1\n",
            "30\n",
            "2.4\n"
          ]
        }
      ]
    },
    {
      "cell_type": "code",
      "source": [
        "print(23 / 5)\n",
        "print(23 // 5)\n",
        "print(23 % 5)"
      ],
      "metadata": {
        "id": "zkBMZ2MOiqxK",
        "colab": {
          "base_uri": "https://localhost:8080/"
        },
        "outputId": "dcf60752-622a-4ae7-c3cc-77f4431df7c3"
      },
      "execution_count": null,
      "outputs": [
        {
          "output_type": "stream",
          "name": "stdout",
          "text": [
            "4.6\n",
            "4\n",
            "3\n"
          ]
        }
      ]
    },
    {
      "cell_type": "code",
      "source": [
        "print(23 * 2)\n",
        "print(23 ** 2)"
      ],
      "metadata": {
        "id": "VrzNPTzfitMr",
        "colab": {
          "base_uri": "https://localhost:8080/"
        },
        "outputId": "9ec84423-ac68-4971-e1ce-589ceba06066"
      },
      "execution_count": null,
      "outputs": [
        {
          "output_type": "stream",
          "name": "stdout",
          "text": [
            "46\n",
            "529\n"
          ]
        }
      ]
    },
    {
      "cell_type": "markdown",
      "source": [
        "## Topic 3-Python的運算子優先序（Operator precedence）\n",
        "* 先乘除後加減, 括號優先\n",
        "* 次方比加減乘除優先"
      ],
      "metadata": {
        "id": "g7Qz8Pcwiyuh"
      }
    },
    {
      "cell_type": "code",
      "source": [
        "print(3 * 4 + 5)  #先乘除後加減\n",
        "print(3 * (4 + 5))#小括號 ()優先"
      ],
      "metadata": {
        "id": "A_UNByUujBJ-",
        "colab": {
          "base_uri": "https://localhost:8080/"
        },
        "outputId": "b974780a-1f3c-4f96-f612-a29525ebefbc"
      },
      "execution_count": null,
      "outputs": [
        {
          "output_type": "stream",
          "name": "stdout",
          "text": [
            "17\n",
            "27\n"
          ]
        }
      ]
    },
    {
      "cell_type": "code",
      "source": [
        "print(1 * 2 ** 3)  #次方比乘除優先\n",
        "print(1 **2 + 3)   #次方比加減優先"
      ],
      "metadata": {
        "id": "Sswrl5PBito0",
        "colab": {
          "base_uri": "https://localhost:8080/"
        },
        "outputId": "7d068c60-366e-4e15-8876-84d0c19eadce"
      },
      "execution_count": null,
      "outputs": [
        {
          "output_type": "stream",
          "name": "stdout",
          "text": [
            "8\n",
            "4\n"
          ]
        }
      ]
    },
    {
      "cell_type": "markdown",
      "source": [
        "## Topic 4-標準庫math的應用\n",
        "* 計算pi 和sin($\\pi/3$) 函數\n",
        "* 使用import 和 as"
      ],
      "metadata": {
        "id": "Bd0H5BMwjFv5"
      }
    },
    {
      "cell_type": "code",
      "source": [
        "pi = 3.14159\n",
        "sin(pi/3)"
      ],
      "metadata": {
        "id": "R1efRBhWjHOr",
        "colab": {
          "base_uri": "https://localhost:8080/",
          "height": 186
        },
        "outputId": "79a8b114-522f-48b4-87d7-d17e9d22127e"
      },
      "execution_count": null,
      "outputs": [
        {
          "output_type": "error",
          "ename": "NameError",
          "evalue": "ignored",
          "traceback": [
            "\u001b[0;31m---------------------------------------------------------------------------\u001b[0m",
            "\u001b[0;31mNameError\u001b[0m                                 Traceback (most recent call last)",
            "\u001b[0;32m<ipython-input-8-bd6ac0587a7c>\u001b[0m in \u001b[0;36m<module>\u001b[0;34m\u001b[0m\n\u001b[1;32m      1\u001b[0m \u001b[0mpi\u001b[0m \u001b[0;34m=\u001b[0m \u001b[0;36m3.14159\u001b[0m\u001b[0;34m\u001b[0m\u001b[0;34m\u001b[0m\u001b[0m\n\u001b[0;32m----> 2\u001b[0;31m \u001b[0msin\u001b[0m\u001b[0;34m(\u001b[0m\u001b[0mpi\u001b[0m\u001b[0;34m/\u001b[0m\u001b[0;36m3\u001b[0m\u001b[0;34m)\u001b[0m\u001b[0;34m\u001b[0m\u001b[0;34m\u001b[0m\u001b[0m\n\u001b[0m",
            "\u001b[0;31mNameError\u001b[0m: name 'sin' is not defined"
          ]
        }
      ]
    },
    {
      "cell_type": "code",
      "source": [
        "import math\n",
        "print(math.pi)\n",
        "print(math.sin(math.pi/3))"
      ],
      "metadata": {
        "id": "Qvj2NsrZjg_w",
        "colab": {
          "base_uri": "https://localhost:8080/"
        },
        "outputId": "aa4de2cf-19b9-49f1-c622-86e975bd046c"
      },
      "execution_count": null,
      "outputs": [
        {
          "output_type": "stream",
          "name": "stdout",
          "text": [
            "3.141592653589793\n",
            "0.8660254037844386\n"
          ]
        }
      ]
    },
    {
      "cell_type": "code",
      "source": [
        "import math as m\n",
        "print(m.pi)\n",
        "print(m.sin(m.pi/3))"
      ],
      "metadata": {
        "id": "VrqGsGI6jivN",
        "colab": {
          "base_uri": "https://localhost:8080/"
        },
        "outputId": "0f9d2b62-a3dc-479e-e71f-19352fa80456"
      },
      "execution_count": null,
      "outputs": [
        {
          "output_type": "stream",
          "name": "stdout",
          "text": [
            "3.141592653589793\n",
            "0.8660254037844386\n"
          ]
        }
      ]
    },
    {
      "cell_type": "code",
      "source": [
        "import math as m\n",
        "print(m.degrees((math.pi/3)))\n",
        "print(m.radians(60))"
      ],
      "metadata": {
        "id": "S7LolkEwjkB0",
        "colab": {
          "base_uri": "https://localhost:8080/"
        },
        "outputId": "4877f2f7-5782-4ba9-81cd-f62fc2af8bcd"
      },
      "execution_count": null,
      "outputs": [
        {
          "output_type": "stream",
          "name": "stdout",
          "text": [
            "59.99999999999999\n",
            "1.0471975511965976\n"
          ]
        }
      ]
    },
    {
      "cell_type": "markdown",
      "source": [
        "## Topic 5-Python基本資料結構和簡單流程控制\n",
        "\n",
        "![image](https://i.ibb.co/mD0PCYD/ipo4.png)\n",
        "\n",
        "Python語言括號有三種，\n",
        "小括號()代表元組(tuple)資料型別、中括號[ ]代表串列(List)資料型別、大括號{ }代表字典(dict)或集合(set)資料型別。在這裡，我們先介紹最常見的資料型別串列(List)…\n",
        "\n",
        "串列(List)\n",
        "\n",
        "<img src=\"https://i1.faceprep.in/Companies-1/lists-in-python.png\" alt=\"img\" border=\"0\" width=\"500\">\n",
        "\n"
      ],
      "metadata": {
        "id": "fNlJcPzMj6F-"
      }
    },
    {
      "cell_type": "code",
      "source": [
        "student0 = 'John'; student1 = 'Mary'; student2 = 'Ken'\n",
        "print('Hello', student0)\n",
        "print('Hello', student1)\n",
        "print('Hello', student2)"
      ],
      "metadata": {
        "id": "4MDy91SOkM4t",
        "colab": {
          "base_uri": "https://localhost:8080/"
        },
        "outputId": "46666b57-09eb-418c-b384-30b60d3698f0"
      },
      "execution_count": null,
      "outputs": [
        {
          "output_type": "stream",
          "name": "stdout",
          "text": [
            "Hello John\n",
            "Hello Mary\n",
            "Hello Ken\n"
          ]
        }
      ]
    },
    {
      "cell_type": "code",
      "source": [
        "students = ['John', 'Mary', 'Ken']\n",
        "print('Hello', students[0])\n",
        "print('Hello', students[1])\n",
        "print('Hello', students[2])"
      ],
      "metadata": {
        "id": "s3lgCZ46kPPi",
        "colab": {
          "base_uri": "https://localhost:8080/"
        },
        "outputId": "c3ba17bb-3391-4eb6-899a-c908c2cdc636"
      },
      "execution_count": null,
      "outputs": [
        {
          "output_type": "stream",
          "name": "stdout",
          "text": [
            "Hello John\n",
            "Hello Mary\n",
            "Hello Ken\n"
          ]
        }
      ]
    },
    {
      "cell_type": "code",
      "source": [
        "print('Hello', students[-3])\n",
        "print('Hello', students[-2])\n",
        "print('Hello', students[-1])"
      ],
      "metadata": {
        "colab": {
          "base_uri": "https://localhost:8080/"
        },
        "id": "-LJcZkFHqyAz",
        "outputId": "2826a00b-95ea-49d1-a4fc-ad27944544c2"
      },
      "execution_count": null,
      "outputs": [
        {
          "output_type": "stream",
          "name": "stdout",
          "text": [
            "Hello John\n",
            "Hello Mary\n",
            "Hello Ken\n"
          ]
        }
      ]
    },
    {
      "cell_type": "code",
      "source": [
        "students.append('Lily')\n",
        "print(students)\n",
        "print(len(students))"
      ],
      "metadata": {
        "id": "Dc1GVcdOkSiA",
        "colab": {
          "base_uri": "https://localhost:8080/"
        },
        "outputId": "37620aaf-44bb-4ca7-a72e-2c399e180c75"
      },
      "execution_count": null,
      "outputs": [
        {
          "output_type": "stream",
          "name": "stdout",
          "text": [
            "['John', 'Mary', 'Ken', 'Lily']\n",
            "4\n"
          ]
        }
      ]
    },
    {
      "cell_type": "markdown",
      "source": [
        "## Topic 6-字串\n",
        "\n",
        "* 字串可以視為將字元串起來的串列。\n",
        "* 用+可以接字串\n",
        "* 用split()切開子字串"
      ],
      "metadata": {
        "id": "wlJkHJjjlFif"
      }
    },
    {
      "cell_type": "code",
      "source": [
        "print('Hello '+'World!')\n",
        "print(\"Hello\", end=\" \");  print(\"World!\")"
      ],
      "metadata": {
        "id": "GhdhXDChkWQ8",
        "colab": {
          "base_uri": "https://localhost:8080/"
        },
        "outputId": "48f110a8-ccf8-4bb7-f660-334fea96a85d"
      },
      "execution_count": null,
      "outputs": [
        {
          "output_type": "stream",
          "name": "stdout",
          "text": [
            "Hello World!\n",
            "Hello World!\n"
          ]
        }
      ]
    },
    {
      "cell_type": "code",
      "source": [
        "# input 3 5\n",
        "paras = input().split()\n",
        "a = int(paras[0])\n",
        "b = int(paras[1])\n",
        "print(a + b)"
      ],
      "metadata": {
        "id": "7G3anJvYlcGJ",
        "colab": {
          "base_uri": "https://localhost:8080/"
        },
        "outputId": "b88a4071-a336-43b6-9836-5e06f219f63e"
      },
      "execution_count": null,
      "outputs": [
        {
          "output_type": "stream",
          "name": "stdout",
          "text": [
            "3 5\n",
            "8\n"
          ]
        }
      ]
    },
    {
      "cell_type": "markdown",
      "source": [
        "## Topic 7-for迴圈(for-loop)\n",
        "* 對list變數使用迴圈\n",
        "* 對range()函數使用迴圈"
      ],
      "metadata": {
        "id": "bsVawOkklXrm"
      }
    },
    {
      "cell_type": "code",
      "source": [
        "numbers = [1, 2, 3, 4, 5, 6, 7, 8, 9]\n",
        "for number in numbers:\n",
        "  print(number)"
      ],
      "metadata": {
        "colab": {
          "base_uri": "https://localhost:8080/"
        },
        "id": "ip-DL3jxK0HN",
        "outputId": "c2173962-e9e1-4423-b79d-6bf2e5f727c9"
      },
      "execution_count": null,
      "outputs": [
        {
          "output_type": "stream",
          "name": "stdout",
          "text": [
            "1\n",
            "2\n",
            "3\n",
            "4\n",
            "5\n",
            "6\n",
            "7\n",
            "8\n",
            "9\n"
          ]
        }
      ]
    },
    {
      "cell_type": "code",
      "source": [
        "numbers = [1, 2, 3, 4, 5, 6, 7, 8, 9]\n",
        "for number in numbers:\n",
        "  print(number, end=',')"
      ],
      "metadata": {
        "id": "D9VNZamwl11S",
        "colab": {
          "base_uri": "https://localhost:8080/"
        },
        "outputId": "aa9b2f9e-4161-4f26-d991-5a4d86d77ba1"
      },
      "execution_count": null,
      "outputs": [
        {
          "output_type": "stream",
          "name": "stdout",
          "text": [
            "1,2,3,4,5,6,7,8,9,"
          ]
        }
      ]
    },
    {
      "cell_type": "code",
      "source": [
        "for number in range(1, 10, 1):\n",
        "  print(number, end=' ')"
      ],
      "metadata": {
        "id": "JibeITHxl4wx",
        "colab": {
          "base_uri": "https://localhost:8080/"
        },
        "outputId": "132db1d6-eee3-42a1-f29d-c264ed22312c"
      },
      "execution_count": null,
      "outputs": [
        {
          "output_type": "stream",
          "name": "stdout",
          "text": [
            "1 2 3 4 5 6 7 8 9 "
          ]
        }
      ]
    },
    {
      "cell_type": "markdown",
      "source": [
        "## Topic 8-if條件陳述式/if condition statement\n",
        "<img src=\"https://i.ibb.co/sv727Wq/if-condition.png\" alt=\"alt text\" width=\"500\">"
      ],
      "metadata": {
        "id": "55rvqMrRn4kl"
      }
    },
    {
      "cell_type": "code",
      "source": [
        "print(True)\n",
        "print(False)"
      ],
      "metadata": {
        "id": "V5Eiu7RjoAdN",
        "colab": {
          "base_uri": "https://localhost:8080/"
        },
        "outputId": "7e0311d5-1f90-4b09-ddb7-9fe619f7b0f1"
      },
      "execution_count": null,
      "outputs": [
        {
          "output_type": "stream",
          "name": "stdout",
          "text": [
            "True\n",
            "False\n"
          ]
        }
      ]
    },
    {
      "cell_type": "code",
      "source": [
        "bmi = float(input(\"Input yout bmi\"))\n",
        "if bmi>30.0:\n",
        "  print(\"Obesity\")"
      ],
      "metadata": {
        "id": "KOo3CPRsoCUn",
        "colab": {
          "base_uri": "https://localhost:8080/"
        },
        "outputId": "33c33965-c3f8-4d20-e842-58e0fb9f8bc1"
      },
      "execution_count": null,
      "outputs": [
        {
          "output_type": "stream",
          "name": "stdout",
          "text": [
            "Input yout bmi44\n",
            "Obesity\n"
          ]
        }
      ]
    },
    {
      "cell_type": "code",
      "source": [
        "bmi = float(input(\"Input yout bmi\"))\n",
        "if bmi>24.0:\n",
        "  print(\"Overweight\")\n",
        "elif bmi<18.5:\n",
        "  print(\"Underweight\")\n",
        "else:\n",
        "  print(\"Healthy weight\")"
      ],
      "metadata": {
        "id": "HZv45H9hoECx",
        "colab": {
          "base_uri": "https://localhost:8080/"
        },
        "outputId": "66e3727b-3dfe-4e07-e53f-a53c0c9af491"
      },
      "execution_count": null,
      "outputs": [
        {
          "output_type": "stream",
          "name": "stdout",
          "text": [
            "Input yout bmi22\n",
            "Healthy weight\n"
          ]
        }
      ]
    },
    {
      "cell_type": "markdown",
      "source": [
        "## Topic 9-字串格式化\n",
        "https://docs.python.org/3/tutorial/inputoutput.html"
      ],
      "metadata": {
        "id": "kS00MWnHmHEY"
      }
    },
    {
      "cell_type": "code",
      "source": [
        "a = 'John'\n",
        "str2 = f'Hi, {a}'\n",
        "print(str2)"
      ],
      "metadata": {
        "id": "8WPebOM4m1J-",
        "colab": {
          "base_uri": "https://localhost:8080/"
        },
        "outputId": "bae44868-7045-463d-a82a-dcb94cacceea"
      },
      "execution_count": null,
      "outputs": [
        {
          "output_type": "stream",
          "name": "stdout",
          "text": [
            "Hi, John\n"
          ]
        }
      ]
    },
    {
      "cell_type": "code",
      "source": [
        "yes_votes = 42_572_654\n",
        "no_votes = 43_132_495\n",
        "percentage = yes_votes / (yes_votes + no_votes)\n",
        "print(f'{yes_votes:9} YES votes {percentage:2.2%}')"
      ],
      "metadata": {
        "id": "ZoMO5iLAm2Nd",
        "colab": {
          "base_uri": "https://localhost:8080/"
        },
        "outputId": "7e38bce3-5b7b-40bb-ad4b-755426da476b"
      },
      "execution_count": null,
      "outputs": [
        {
          "output_type": "stream",
          "name": "stdout",
          "text": [
            " 42572654 YES votes 49.67%\n"
          ]
        }
      ]
    },
    {
      "cell_type": "markdown",
      "source": [
        "## Topic 10-函數的定義及呼叫 / function definition and call"
      ],
      "metadata": {
        "id": "nXyJlChbnNrp"
      }
    },
    {
      "cell_type": "code",
      "source": [
        "a=240; b=96\n",
        "r=a%b\n",
        "while r!=0:\n",
        "  a=b;b=r\n",
        "  r=a%b\n",
        "print(f\"gcd={b}\")"
      ],
      "metadata": {
        "id": "pR-b6WswndWx",
        "colab": {
          "base_uri": "https://localhost:8080/"
        },
        "outputId": "dcf68559-03df-4e9b-e58c-81bad1990bf5"
      },
      "execution_count": null,
      "outputs": [
        {
          "output_type": "stream",
          "name": "stdout",
          "text": [
            "gcd=48\n"
          ]
        }
      ]
    },
    {
      "cell_type": "code",
      "source": [
        "def gcd(x, y):\n",
        "  r=x%y\n",
        "  while r!=0:\n",
        "    x=y;y=r\n",
        "    r=x%y\n",
        "  return y"
      ],
      "metadata": {
        "id": "Pf9LRBGcnfR1"
      },
      "execution_count": null,
      "outputs": []
    },
    {
      "cell_type": "code",
      "source": [
        "a=240; b=96\n",
        "print(f\"{a}, {b}, {gcd(a,b)}\")"
      ],
      "metadata": {
        "id": "6Ww5mOXFnhMa",
        "colab": {
          "base_uri": "https://localhost:8080/"
        },
        "outputId": "57ed21b7-200b-4488-f6be-c1c62c8f7c32"
      },
      "execution_count": null,
      "outputs": [
        {
          "output_type": "stream",
          "name": "stdout",
          "text": [
            "240, 96, 48\n"
          ]
        }
      ]
    },
    {
      "cell_type": "markdown",
      "source": [
        "## Exercise 1: 印出99乘法表/print out the multiplication table\n",
        "<img src=\"https://previews.123rf.com/images/in8finity/in8finity1408/in8finity140800033/30726191-multiplication-table-on-white-background.jpg\" alt=\"img\" border=\"0\" width=\"500\">\n"
      ],
      "metadata": {
        "id": "8xpxBzJsm0kQ"
      }
    },
    {
      "cell_type": "code",
      "source": [
        "# 使用2層迴圈,印出99乘法表/print out the multiplication table\n",
        "# 從這裡開始寫\n",
        "for y in range(1, 11, 1):\n",
        "  for x in range(1, 6, 1):\n",
        "    print(f\"{x:<2}*{y:<2}={x*y:<3}\", end=' ')\n",
        "  print()\n",
        "print()\n",
        "for y in range(1, 11, 1):\n",
        "  for x in range(6, 11, 1):\n",
        "    print(f\"{x:<2}*{y:<2}={x*y:<3}\", end=' ')\n",
        "  print()"
      ],
      "metadata": {
        "id": "io0iUcdWnEw7",
        "colab": {
          "base_uri": "https://localhost:8080/"
        },
        "outputId": "19d9a8ab-0e5a-406d-b6c8-753665f5f6d7"
      },
      "execution_count": null,
      "outputs": [
        {
          "output_type": "stream",
          "name": "stdout",
          "text": [
            "1 *1 =1   2 *1 =2   3 *1 =3   4 *1 =4   5 *1 =5   \n",
            "1 *2 =2   2 *2 =4   3 *2 =6   4 *2 =8   5 *2 =10  \n",
            "1 *3 =3   2 *3 =6   3 *3 =9   4 *3 =12  5 *3 =15  \n",
            "1 *4 =4   2 *4 =8   3 *4 =12  4 *4 =16  5 *4 =20  \n",
            "1 *5 =5   2 *5 =10  3 *5 =15  4 *5 =20  5 *5 =25  \n",
            "1 *6 =6   2 *6 =12  3 *6 =18  4 *6 =24  5 *6 =30  \n",
            "1 *7 =7   2 *7 =14  3 *7 =21  4 *7 =28  5 *7 =35  \n",
            "1 *8 =8   2 *8 =16  3 *8 =24  4 *8 =32  5 *8 =40  \n",
            "1 *9 =9   2 *9 =18  3 *9 =27  4 *9 =36  5 *9 =45  \n",
            "1 *10=10  2 *10=20  3 *10=30  4 *10=40  5 *10=50  \n",
            "\n",
            "6 *1 =6   7 *1 =7   8 *1 =8   9 *1 =9   10*1 =10  \n",
            "6 *2 =12  7 *2 =14  8 *2 =16  9 *2 =18  10*2 =20  \n",
            "6 *3 =18  7 *3 =21  8 *3 =24  9 *3 =27  10*3 =30  \n",
            "6 *4 =24  7 *4 =28  8 *4 =32  9 *4 =36  10*4 =40  \n",
            "6 *5 =30  7 *5 =35  8 *5 =40  9 *5 =45  10*5 =50  \n",
            "6 *6 =36  7 *6 =42  8 *6 =48  9 *6 =54  10*6 =60  \n",
            "6 *7 =42  7 *7 =49  8 *7 =56  9 *7 =63  10*7 =70  \n",
            "6 *8 =48  7 *8 =56  8 *8 =64  9 *8 =72  10*8 =80  \n",
            "6 *9 =54  7 *9 =63  8 *9 =72  9 *9 =81  10*9 =90  \n",
            "6 *10=60  7 *10=70  8 *10=80  9 *10=90  10*10=100 \n"
          ]
        }
      ]
    },
    {
      "cell_type": "code",
      "source": [
        "for y in range(1, 11):\n",
        "  for x in range(1, 6):\n",
        "    print(f\"{x:2}*{y:2}={x*y:2}\", end=\" \")\n",
        "  print()\n",
        "print()\n",
        "for y in range(1, 11):\n",
        "  for x in range(6, 11):\n",
        "    print(f\"{x:2}*{y:2}={x*y:2}\", end=\" \")\n",
        "  print()"
      ],
      "metadata": {
        "colab": {
          "base_uri": "https://localhost:8080/"
        },
        "id": "Rt3qVy7yLU1P",
        "outputId": "82f0d555-274a-47d1-ffd9-e72185dc532c"
      },
      "execution_count": null,
      "outputs": [
        {
          "output_type": "stream",
          "name": "stdout",
          "text": [
            " 1* 1= 1  2* 1= 2  3* 1= 3  4* 1= 4  5* 1= 5 \n",
            " 1* 2= 2  2* 2= 4  3* 2= 6  4* 2= 8  5* 2=10 \n",
            " 1* 3= 3  2* 3= 6  3* 3= 9  4* 3=12  5* 3=15 \n",
            " 1* 4= 4  2* 4= 8  3* 4=12  4* 4=16  5* 4=20 \n",
            " 1* 5= 5  2* 5=10  3* 5=15  4* 5=20  5* 5=25 \n",
            " 1* 6= 6  2* 6=12  3* 6=18  4* 6=24  5* 6=30 \n",
            " 1* 7= 7  2* 7=14  3* 7=21  4* 7=28  5* 7=35 \n",
            " 1* 8= 8  2* 8=16  3* 8=24  4* 8=32  5* 8=40 \n",
            " 1* 9= 9  2* 9=18  3* 9=27  4* 9=36  5* 9=45 \n",
            " 1*10=10  2*10=20  3*10=30  4*10=40  5*10=50 \n",
            "\n",
            " 6* 1= 6  7* 1= 7  8* 1= 8  9* 1= 9 10* 1=10 \n",
            " 6* 2=12  7* 2=14  8* 2=16  9* 2=18 10* 2=20 \n",
            " 6* 3=18  7* 3=21  8* 3=24  9* 3=27 10* 3=30 \n",
            " 6* 4=24  7* 4=28  8* 4=32  9* 4=36 10* 4=40 \n",
            " 6* 5=30  7* 5=35  8* 5=40  9* 5=45 10* 5=50 \n",
            " 6* 6=36  7* 6=42  8* 6=48  9* 6=54 10* 6=60 \n",
            " 6* 7=42  7* 7=49  8* 7=56  9* 7=63 10* 7=70 \n",
            " 6* 8=48  7* 8=56  8* 8=64  9* 8=72 10* 8=80 \n",
            " 6* 9=54  7* 9=63  8* 9=72  9* 9=81 10* 9=90 \n",
            " 6*10=60  7*10=70  8*10=80  9*10=90 10*10=100 \n"
          ]
        }
      ]
    }
  ]
}